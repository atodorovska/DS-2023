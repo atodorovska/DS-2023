{
  "nbformat": 4,
  "nbformat_minor": 0,
  "metadata": {
    "colab": {
      "provenance": [],
      "collapsed_sections": [
        "QHtK2QkBp_1l",
        "msMABK3kCDOO",
        "_DtzOamurN8w",
        "SZSr4ZB4sO55",
        "efLtFzb5vt9X",
        "gBIpZRrEDBYQ",
        "OFTkQ2mDHQZe",
        "GEnJ3KqTHcjn",
        "vCBvbWNqJbho",
        "nVD4yomtJ7Vd",
        "HqUh52lyKi5p",
        "0s9m53WKPLRe",
        "g0g_E39QMvmd",
        "wMA9j42ENCHb",
        "GOrJtZD6OGCO",
        "dkOAMfIAOns1",
        "9s-OpKv8QtwH",
        "TSfxp9iiBUaT",
        "iCLD5dGMTDyU",
        "QDU2B5EnTHxL",
        "7LSroCvXU0Lz"
      ],
      "authorship_tag": "ABX9TyP6ebvTJirqfY9FZ4CGZ5ln"
    },
    "kernelspec": {
      "name": "python3",
      "display_name": "Python 3"
    },
    "language_info": {
      "name": "python"
    }
  },
  "cells": [
    {
      "cell_type": "markdown",
      "source": [
        "#Аудиториска вежба 1: Introduction to Python"
      ],
      "metadata": {
        "id": "QHtK2QkBp_1l"
      }
    },
    {
      "cell_type": "markdown",
      "source": [
        "### <font color='green'>Utils</font>"
      ],
      "metadata": {
        "id": "msMABK3kCDOO"
      }
    },
    {
      "cell_type": "markdown",
      "source": [
        "*Note: When using any function, Ctrl + Space is your best friend!*\n",
        "\n",
        "*Note: Ctrl + / will comment out any selected code!*"
      ],
      "metadata": {
        "id": "5SNa8VtFCHN9"
      }
    },
    {
      "cell_type": "markdown",
      "source": [
        "###<font color='pink'>Expressions</font>"
      ],
      "metadata": {
        "id": "_DtzOamurN8w"
      }
    },
    {
      "cell_type": "code",
      "source": [
        "3 * 7"
      ],
      "metadata": {
        "colab": {
          "base_uri": "https://localhost:8080/"
        },
        "id": "L-7R1Fleprce",
        "outputId": "c1a2e91c-ac58-47bb-8690-02836b7dd948"
      },
      "execution_count": null,
      "outputs": [
        {
          "output_type": "execute_result",
          "data": {
            "text/plain": [
              "21"
            ]
          },
          "metadata": {},
          "execution_count": 6
        }
      ]
    },
    {
      "cell_type": "code",
      "source": [
        "print(2 + 5)\n",
        "print(7 * 5)"
      ],
      "metadata": {
        "colab": {
          "base_uri": "https://localhost:8080/"
        },
        "id": "BVN-iz7ox9og",
        "outputId": "058cc4b2-b71f-425c-aa6f-4fc3d8ba189d"
      },
      "execution_count": null,
      "outputs": [
        {
          "output_type": "stream",
          "name": "stdout",
          "text": [
            "7\n",
            "35\n"
          ]
        }
      ]
    },
    {
      "cell_type": "code",
      "source": [
        "print(3 / 5)"
      ],
      "metadata": {
        "colab": {
          "base_uri": "https://localhost:8080/"
        },
        "id": "D6aPqXjrrTgP",
        "outputId": "95db7dce-ae59-432e-f65b-89fe1cd94aeb"
      },
      "execution_count": null,
      "outputs": [
        {
          "output_type": "stream",
          "name": "stdout",
          "text": [
            "0.6\n"
          ]
        }
      ]
    },
    {
      "cell_type": "code",
      "source": [
        "2 + 4 * 7"
      ],
      "metadata": {
        "colab": {
          "base_uri": "https://localhost:8080/"
        },
        "id": "UW5hr_7drXEk",
        "outputId": "e99d5d26-ec28-45ae-a317-77a58a12d076"
      },
      "execution_count": null,
      "outputs": [
        {
          "output_type": "execute_result",
          "data": {
            "text/plain": [
              "30"
            ]
          },
          "metadata": {},
          "execution_count": 9
        }
      ]
    },
    {
      "cell_type": "code",
      "source": [
        "(2 + 4) * 7"
      ],
      "metadata": {
        "colab": {
          "base_uri": "https://localhost:8080/"
        },
        "id": "LP4_FwLIroMj",
        "outputId": "e71f6c05-3d3b-4ee3-ad01-0cd958b7a51f"
      },
      "execution_count": null,
      "outputs": [
        {
          "output_type": "execute_result",
          "data": {
            "text/plain": [
              "42"
            ]
          },
          "metadata": {},
          "execution_count": 10
        }
      ]
    },
    {
      "cell_type": "code",
      "source": [
        "#Note: the two * in the symbol ** must be joined together!\n",
        "3 ** 3"
      ],
      "metadata": {
        "colab": {
          "base_uri": "https://localhost:8080/"
        },
        "id": "lzsr-GWhrqXM",
        "outputId": "9dc26dbe-9881-45ac-91e5-e2dcada62036"
      },
      "execution_count": null,
      "outputs": [
        {
          "output_type": "execute_result",
          "data": {
            "text/plain": [
              "27"
            ]
          },
          "metadata": {},
          "execution_count": 11
        }
      ]
    },
    {
      "cell_type": "code",
      "source": [
        "1 + 2 + 3 * 4 * 10 ** 6 / 4 + 500"
      ],
      "metadata": {
        "colab": {
          "base_uri": "https://localhost:8080/"
        },
        "id": "btuX8eJlrzbq",
        "outputId": "1c090596-dce3-49f5-a5ff-338cecd5c5c4"
      },
      "execution_count": null,
      "outputs": [
        {
          "output_type": "execute_result",
          "data": {
            "text/plain": [
              "3000503.0"
            ]
          },
          "metadata": {},
          "execution_count": 12
        }
      ]
    },
    {
      "cell_type": "code",
      "source": [
        "1 + 2 + (3 * 4 * 10) ** 6 / 4 + 500"
      ],
      "metadata": {
        "colab": {
          "base_uri": "https://localhost:8080/"
        },
        "id": "8bTbLZgWsKHw",
        "outputId": "b2da6f01-ee6f-487e-bc57-be12f92422b2"
      },
      "execution_count": null,
      "outputs": [
        {
          "output_type": "execute_result",
          "data": {
            "text/plain": [
              "746496000503.0"
            ]
          },
          "metadata": {},
          "execution_count": 13
        }
      ]
    },
    {
      "cell_type": "markdown",
      "source": [
        "###<font color='orange'>Variables</font>"
      ],
      "metadata": {
        "id": "SZSr4ZB4sO55"
      }
    },
    {
      "cell_type": "code",
      "source": [
        "x = 10\n",
        "y = 5\n",
        "z = 7\n",
        "k = 5.5"
      ],
      "metadata": {
        "id": "Fyv11K3NsMyS"
      },
      "execution_count": null,
      "outputs": []
    },
    {
      "cell_type": "code",
      "source": [
        "type(x)"
      ],
      "metadata": {
        "colab": {
          "base_uri": "https://localhost:8080/"
        },
        "id": "3dwlCUY6tftx",
        "outputId": "fe4b9ed7-da19-414e-cb65-9059155b3f58"
      },
      "execution_count": null,
      "outputs": [
        {
          "output_type": "execute_result",
          "data": {
            "text/plain": [
              "int"
            ]
          },
          "metadata": {},
          "execution_count": 15
        }
      ]
    },
    {
      "cell_type": "code",
      "source": [
        "type(k)"
      ],
      "metadata": {
        "colab": {
          "base_uri": "https://localhost:8080/"
        },
        "id": "dqV1-drgtjGL",
        "outputId": "a00d0033-82aa-48cf-c96f-88abce4a13e5"
      },
      "execution_count": null,
      "outputs": [
        {
          "output_type": "execute_result",
          "data": {
            "text/plain": [
              "float"
            ]
          },
          "metadata": {},
          "execution_count": 16
        }
      ]
    },
    {
      "cell_type": "code",
      "source": [
        "q = x + y\n",
        "q"
      ],
      "metadata": {
        "colab": {
          "base_uri": "https://localhost:8080/"
        },
        "id": "EJjk34hPsd2e",
        "outputId": "adbcb27e-9d6d-44bd-9f69-9ed5dbd22f31"
      },
      "execution_count": null,
      "outputs": [
        {
          "output_type": "execute_result",
          "data": {
            "text/plain": [
              "15"
            ]
          },
          "metadata": {},
          "execution_count": 21
        }
      ]
    },
    {
      "cell_type": "code",
      "source": [
        "print(q)"
      ],
      "metadata": {
        "colab": {
          "base_uri": "https://localhost:8080/"
        },
        "id": "NGCq3BMAshYL",
        "outputId": "ea6c9a12-cc97-4a4a-f5d6-629090c463ae"
      },
      "execution_count": null,
      "outputs": [
        {
          "output_type": "stream",
          "name": "stdout",
          "text": [
            "15\n"
          ]
        }
      ]
    },
    {
      "cell_type": "code",
      "source": [
        "a = 8989717\n",
        "b = 81818\n",
        "(a - b) / a"
      ],
      "metadata": {
        "colab": {
          "base_uri": "https://localhost:8080/"
        },
        "id": "1f0G6sF0smEr",
        "outputId": "eb3d3904-fae7-4915-d08c-d629e7fd858f"
      },
      "execution_count": null,
      "outputs": [
        {
          "output_type": "execute_result",
          "data": {
            "text/plain": [
              "0.9908987123843832"
            ]
          },
          "metadata": {},
          "execution_count": 23
        }
      ]
    },
    {
      "cell_type": "code",
      "source": [
        "t = \"dummy text\""
      ],
      "metadata": {
        "id": "vauaQRI2ssO5"
      },
      "execution_count": null,
      "outputs": []
    },
    {
      "cell_type": "code",
      "source": [
        "type(t)"
      ],
      "metadata": {
        "colab": {
          "base_uri": "https://localhost:8080/"
        },
        "id": "FST_skD_tqj0",
        "outputId": "05b0a903-9a55-4bd9-9213-864f8beb7523"
      },
      "execution_count": null,
      "outputs": [
        {
          "output_type": "execute_result",
          "data": {
            "text/plain": [
              "str"
            ]
          },
          "metadata": {},
          "execution_count": 25
        }
      ]
    },
    {
      "cell_type": "code",
      "source": [
        "c = 'a'"
      ],
      "metadata": {
        "id": "13Us2zggtUZW"
      },
      "execution_count": null,
      "outputs": []
    },
    {
      "cell_type": "code",
      "source": [
        "type(c)"
      ],
      "metadata": {
        "colab": {
          "base_uri": "https://localhost:8080/"
        },
        "id": "pY9m6LzLtt1p",
        "outputId": "735dfd5a-5078-4e6a-f13f-db2838aed30a"
      },
      "execution_count": null,
      "outputs": [
        {
          "output_type": "execute_result",
          "data": {
            "text/plain": [
              "str"
            ]
          },
          "metadata": {},
          "execution_count": 27
        }
      ]
    },
    {
      "cell_type": "code",
      "source": [
        "x = 'ashshlkjh'"
      ],
      "metadata": {
        "id": "dhOloVh7tYvT"
      },
      "execution_count": null,
      "outputs": []
    },
    {
      "cell_type": "code",
      "source": [
        "type(x)"
      ],
      "metadata": {
        "colab": {
          "base_uri": "https://localhost:8080/"
        },
        "id": "st7n-BJktdzU",
        "outputId": "778f4fd0-4f2b-49e2-89fb-59c7cd2a5db9"
      },
      "execution_count": null,
      "outputs": [
        {
          "output_type": "execute_result",
          "data": {
            "text/plain": [
              "str"
            ]
          },
          "metadata": {},
          "execution_count": 29
        }
      ]
    },
    {
      "cell_type": "code",
      "source": [
        "first = \"first string\"\n",
        "second = \"second string\"\n",
        "\n",
        "result_string = first + \" \" + second\n",
        "result_string"
      ],
      "metadata": {
        "colab": {
          "base_uri": "https://localhost:8080/"
        },
        "id": "CNhAfjR5wsnt",
        "outputId": "f816208e-0375-4ff8-e8a8-3b764fd6b4d0"
      },
      "execution_count": null,
      "outputs": [
        {
          "output_type": "execute_result",
          "data": {
            "text/plain": [
              "'first string second string'"
            ],
            "application/vnd.google.colaboratory.intrinsic+json": {
              "type": "string"
            }
          },
          "metadata": {},
          "execution_count": 32
        }
      ]
    },
    {
      "cell_type": "code",
      "source": [
        "result_string = first + second\n",
        "result_string"
      ],
      "metadata": {
        "colab": {
          "base_uri": "https://localhost:8080/"
        },
        "id": "KV14ftmcw8Qp",
        "outputId": "6daa577c-3536-4e2b-9677-d7f0496aaaaf"
      },
      "execution_count": null,
      "outputs": [
        {
          "output_type": "execute_result",
          "data": {
            "text/plain": [
              "'first stringsecond string'"
            ],
            "application/vnd.google.colaboratory.intrinsic+json": {
              "type": "string"
            }
          },
          "metadata": {},
          "execution_count": 33
        }
      ]
    },
    {
      "cell_type": "code",
      "source": [
        "#Note: There is a difference between '' and \"\" in Python when using the sign ' in the sentence.\n",
        "\n",
        "s = \"This won't work if I had the other type of quotes!\"\n",
        "s"
      ],
      "metadata": {
        "colab": {
          "base_uri": "https://localhost:8080/"
        },
        "id": "Yz_eY8ZoxAW-",
        "outputId": "79826909-614a-426a-a114-35d18b7391ce"
      },
      "execution_count": null,
      "outputs": [
        {
          "output_type": "execute_result",
          "data": {
            "text/plain": [
              "\"This won't work if I had the other type of quotes!\""
            ],
            "application/vnd.google.colaboratory.intrinsic+json": {
              "type": "string"
            }
          },
          "metadata": {},
          "execution_count": 36
        }
      ]
    },
    {
      "cell_type": "code",
      "source": [
        "#Note: The + sign won't work in concatanation unless all operands are of type string.\n",
        "\n",
        "print(\"Congrats! You are now \" + str(10) + \" years old!\")\n",
        "print(\"What are you taling about? This can't be \" + str(True) + \"!\")"
      ],
      "metadata": {
        "colab": {
          "base_uri": "https://localhost:8080/"
        },
        "id": "LgeetWWsxe0L",
        "outputId": "64e479f6-eef1-45e9-e863-d3eabd3fadd2"
      },
      "execution_count": null,
      "outputs": [
        {
          "output_type": "stream",
          "name": "stdout",
          "text": [
            "Congrats! You are now 10 years old!\n",
            "What are you taling about? This can't be True!\n"
          ]
        }
      ]
    },
    {
      "cell_type": "code",
      "source": [
        "#Note: Evaluation without print() works well in Google Colab, but will show only the last evaluation line as result.\n",
        "3 + 2\n",
        "4 + 6"
      ],
      "metadata": {
        "colab": {
          "base_uri": "https://localhost:8080/"
        },
        "id": "ghLENIbUt9JE",
        "outputId": "043236a4-716a-409d-8214-566e041d1189"
      },
      "execution_count": null,
      "outputs": [
        {
          "output_type": "execute_result",
          "data": {
            "text/plain": [
              "10"
            ]
          },
          "metadata": {},
          "execution_count": 43
        }
      ]
    },
    {
      "cell_type": "code",
      "source": [
        "#Note: 1e5 for example means 1 * 10^5.\n",
        "1e5"
      ],
      "metadata": {
        "colab": {
          "base_uri": "https://localhost:8080/"
        },
        "id": "_VV7lEYrt_L1",
        "outputId": "29f8bb36-c558-4d4d-ffbc-86ca0367bda7"
      },
      "execution_count": null,
      "outputs": [
        {
          "output_type": "execute_result",
          "data": {
            "text/plain": [
              "100000.0"
            ]
          },
          "metadata": {},
          "execution_count": 44
        }
      ]
    },
    {
      "cell_type": "code",
      "source": [
        "#Note: In Python we can make use of f-strings to format text with embedded python expressions.\n",
        "r = 1e-5\n",
        "\n",
        "print(f'{r:.10f}')\n",
        "print(f'{r:.5f}')"
      ],
      "metadata": {
        "colab": {
          "base_uri": "https://localhost:8080/"
        },
        "id": "LYKDDuQvusaY",
        "outputId": "0d52a67e-cf08-4ab2-f7a7-ed9c7e788fb2"
      },
      "execution_count": null,
      "outputs": [
        {
          "output_type": "stream",
          "name": "stdout",
          "text": [
            "0.0000100000\n",
            "0.00001\n"
          ]
        }
      ]
    },
    {
      "cell_type": "markdown",
      "source": [
        "### <font color='green'>Functions</font>"
      ],
      "metadata": {
        "id": "efLtFzb5vt9X"
      }
    },
    {
      "cell_type": "code",
      "source": [
        "bool(0)"
      ],
      "metadata": {
        "colab": {
          "base_uri": "https://localhost:8080/"
        },
        "id": "d9VH6zf_CWT3",
        "outputId": "2c287b13-2d56-4b2b-f3b7-498e0d573595"
      },
      "execution_count": null,
      "outputs": [
        {
          "output_type": "execute_result",
          "data": {
            "text/plain": [
              "False"
            ]
          },
          "metadata": {},
          "execution_count": 46
        }
      ]
    },
    {
      "cell_type": "code",
      "source": [
        "bool(100)"
      ],
      "metadata": {
        "colab": {
          "base_uri": "https://localhost:8080/"
        },
        "id": "xqEoyQuECdBu",
        "outputId": "6cda5070-515f-4e5f-fdc1-47f07326df9b"
      },
      "execution_count": null,
      "outputs": [
        {
          "output_type": "execute_result",
          "data": {
            "text/plain": [
              "True"
            ]
          },
          "metadata": {},
          "execution_count": 47
        }
      ]
    },
    {
      "cell_type": "code",
      "source": [
        "bool(\"Text\")"
      ],
      "metadata": {
        "colab": {
          "base_uri": "https://localhost:8080/"
        },
        "id": "kP-MPnK7CY-W",
        "outputId": "bbed16fc-8b25-47cb-fd6b-0bc913a059bb"
      },
      "execution_count": null,
      "outputs": [
        {
          "output_type": "execute_result",
          "data": {
            "text/plain": [
              "True"
            ]
          },
          "metadata": {},
          "execution_count": 48
        }
      ]
    },
    {
      "cell_type": "code",
      "source": [
        "bool(\"\")"
      ],
      "metadata": {
        "colab": {
          "base_uri": "https://localhost:8080/"
        },
        "id": "63C3RXl2CbE1",
        "outputId": "bd070ffc-cf1c-4d40-a551-0c049d1e8f4f"
      },
      "execution_count": null,
      "outputs": [
        {
          "output_type": "execute_result",
          "data": {
            "text/plain": [
              "False"
            ]
          },
          "metadata": {},
          "execution_count": 49
        }
      ]
    },
    {
      "cell_type": "code",
      "source": [
        "10 > 9 + 1"
      ],
      "metadata": {
        "colab": {
          "base_uri": "https://localhost:8080/"
        },
        "id": "q-Dz2624C678",
        "outputId": "c7bb3b98-a948-45bf-e22e-5757cb91843e"
      },
      "execution_count": null,
      "outputs": [
        {
          "output_type": "execute_result",
          "data": {
            "text/plain": [
              "False"
            ]
          },
          "metadata": {},
          "execution_count": 51
        }
      ]
    },
    {
      "cell_type": "code",
      "source": [
        "complex(1, 5)"
      ],
      "metadata": {
        "colab": {
          "base_uri": "https://localhost:8080/"
        },
        "id": "W-hkn-ARu1pP",
        "outputId": "3c8f5211-e1f7-48aa-89cf-ef003e02027f"
      },
      "execution_count": null,
      "outputs": [
        {
          "output_type": "execute_result",
          "data": {
            "text/plain": [
              "(1+5j)"
            ]
          },
          "metadata": {},
          "execution_count": 52
        }
      ]
    },
    {
      "cell_type": "code",
      "source": [
        "abs(-10)"
      ],
      "metadata": {
        "colab": {
          "base_uri": "https://localhost:8080/"
        },
        "id": "Pcwx32dhwJLa",
        "outputId": "a329a27c-32ce-41e6-b24d-35e98ab1835a"
      },
      "execution_count": null,
      "outputs": [
        {
          "output_type": "execute_result",
          "data": {
            "text/plain": [
              "10"
            ]
          },
          "metadata": {},
          "execution_count": 53
        }
      ]
    },
    {
      "cell_type": "code",
      "source": [
        "round(10 - 3.4)"
      ],
      "metadata": {
        "colab": {
          "base_uri": "https://localhost:8080/"
        },
        "id": "LBOn00fa5Xsp",
        "outputId": "b9b19ec5-fcc8-48f9-bd8f-e0588e17ec76"
      },
      "execution_count": null,
      "outputs": [
        {
          "output_type": "execute_result",
          "data": {
            "text/plain": [
              "7"
            ]
          },
          "metadata": {},
          "execution_count": 54
        }
      ]
    },
    {
      "cell_type": "code",
      "source": [
        "round(10 - 3.5)"
      ],
      "metadata": {
        "colab": {
          "base_uri": "https://localhost:8080/"
        },
        "id": "kqIVCQGFCpiH",
        "outputId": "71ade908-a708-4f9e-9814-2f0b3c847147"
      },
      "execution_count": null,
      "outputs": [
        {
          "output_type": "execute_result",
          "data": {
            "text/plain": [
              "6"
            ]
          },
          "metadata": {},
          "execution_count": 55
        }
      ]
    },
    {
      "cell_type": "code",
      "source": [
        "max(3, 7)"
      ],
      "metadata": {
        "colab": {
          "base_uri": "https://localhost:8080/"
        },
        "id": "p9VjvN4bCvLZ",
        "outputId": "71041798-1b91-4487-fa31-52c66ae652e7"
      },
      "execution_count": null,
      "outputs": [
        {
          "output_type": "execute_result",
          "data": {
            "text/plain": [
              "7"
            ]
          },
          "metadata": {},
          "execution_count": 56
        }
      ]
    },
    {
      "cell_type": "code",
      "source": [
        "max(10, 5+10, 10+10)"
      ],
      "metadata": {
        "colab": {
          "base_uri": "https://localhost:8080/"
        },
        "id": "tW-QdOIJCxOh",
        "outputId": "ca727744-6db9-40d3-9338-ad53d7d9b60a"
      },
      "execution_count": null,
      "outputs": [
        {
          "output_type": "execute_result",
          "data": {
            "text/plain": [
              "20"
            ]
          },
          "metadata": {},
          "execution_count": 57
        }
      ]
    },
    {
      "cell_type": "code",
      "source": [
        "max(5, min(10, 20), 8)"
      ],
      "metadata": {
        "colab": {
          "base_uri": "https://localhost:8080/"
        },
        "id": "WK9BWyNKC1cA",
        "outputId": "7b4cb5b7-17b4-42c4-ad45-a432adf9be20"
      },
      "execution_count": null,
      "outputs": [
        {
          "output_type": "execute_result",
          "data": {
            "text/plain": [
              "10"
            ]
          },
          "metadata": {},
          "execution_count": 58
        }
      ]
    },
    {
      "cell_type": "code",
      "source": [
        "max(\"Data\", \"Science\")"
      ],
      "metadata": {
        "colab": {
          "base_uri": "https://localhost:8080/"
        },
        "id": "VL697T6XDwHg",
        "outputId": "55bb05b2-5ce3-4b08-a244-9b3049d41daf"
      },
      "execution_count": null,
      "outputs": [
        {
          "output_type": "execute_result",
          "data": {
            "text/plain": [
              "'Science'"
            ],
            "application/vnd.google.colaboratory.intrinsic+json": {
              "type": "string"
            }
          },
          "metadata": {},
          "execution_count": 59
        }
      ]
    },
    {
      "cell_type": "code",
      "source": [
        "max(\"ABC\", \"AAAAAA\")"
      ],
      "metadata": {
        "colab": {
          "base_uri": "https://localhost:8080/"
        },
        "id": "Z1dxdz6WD0q9",
        "outputId": "662fad7b-11aa-48a4-ab87-6b22c627ee07"
      },
      "execution_count": null,
      "outputs": [
        {
          "output_type": "execute_result",
          "data": {
            "text/plain": [
              "'ABC'"
            ],
            "application/vnd.google.colaboratory.intrinsic+json": {
              "type": "string"
            }
          },
          "metadata": {},
          "execution_count": 61
        }
      ]
    },
    {
      "cell_type": "code",
      "source": [
        "len('Data Science')"
      ],
      "metadata": {
        "colab": {
          "base_uri": "https://localhost:8080/"
        },
        "id": "RY79133aD3pg",
        "outputId": "fedc1ea6-f0f7-4bb1-f8fb-4df37080fe2d"
      },
      "execution_count": null,
      "outputs": [
        {
          "output_type": "execute_result",
          "data": {
            "text/plain": [
              "12"
            ]
          },
          "metadata": {},
          "execution_count": 62
        }
      ]
    },
    {
      "cell_type": "code",
      "source": [
        "'data science'.upper()"
      ],
      "metadata": {
        "colab": {
          "base_uri": "https://localhost:8080/"
        },
        "id": "6sYu5OlfD7B5",
        "outputId": "77ea8263-5b44-4e33-8b65-2a298092e9ba"
      },
      "execution_count": null,
      "outputs": [
        {
          "output_type": "execute_result",
          "data": {
            "text/plain": [
              "'DATA SCIENCE'"
            ],
            "application/vnd.google.colaboratory.intrinsic+json": {
              "type": "string"
            }
          },
          "metadata": {},
          "execution_count": 63
        }
      ]
    },
    {
      "cell_type": "code",
      "source": [
        "'DATA SCIENCE'.lower()"
      ],
      "metadata": {
        "colab": {
          "base_uri": "https://localhost:8080/"
        },
        "id": "4SZGJHHYEe48",
        "outputId": "01749069-bd30-4b02-ba4e-83286c36c976"
      },
      "execution_count": null,
      "outputs": [
        {
          "output_type": "execute_result",
          "data": {
            "text/plain": [
              "'data science'"
            ],
            "application/vnd.google.colaboratory.intrinsic+json": {
              "type": "string"
            }
          },
          "metadata": {},
          "execution_count": 64
        }
      ]
    },
    {
      "cell_type": "code",
      "source": [
        "'DATA science'.lower()"
      ],
      "metadata": {
        "colab": {
          "base_uri": "https://localhost:8080/"
        },
        "id": "88GbQBibEntE",
        "outputId": "8f069e65-c079-4afb-f25d-77c67e88ee7f"
      },
      "execution_count": null,
      "outputs": [
        {
          "output_type": "execute_result",
          "data": {
            "text/plain": [
              "'data science'"
            ],
            "application/vnd.google.colaboratory.intrinsic+json": {
              "type": "string"
            }
          },
          "metadata": {},
          "execution_count": 65
        }
      ]
    },
    {
      "cell_type": "code",
      "source": [
        "'xxta science'.replace('xx', 'da')"
      ],
      "metadata": {
        "colab": {
          "base_uri": "https://localhost:8080/"
        },
        "id": "TKcrgmvvD9ps",
        "outputId": "6e4f3509-3c37-45b4-b54c-c652005e091f"
      },
      "execution_count": null,
      "outputs": [
        {
          "output_type": "execute_result",
          "data": {
            "text/plain": [
              "'data science'"
            ],
            "application/vnd.google.colaboratory.intrinsic+json": {
              "type": "string"
            }
          },
          "metadata": {},
          "execution_count": 66
        }
      ]
    },
    {
      "cell_type": "code",
      "source": [
        "'xxta science'.replace('xx', 'da').upper()"
      ],
      "metadata": {
        "colab": {
          "base_uri": "https://localhost:8080/"
        },
        "id": "n9znRWNsEEho",
        "outputId": "4f6f527f-320e-4024-85c6-2a527911174f"
      },
      "execution_count": null,
      "outputs": [
        {
          "output_type": "execute_result",
          "data": {
            "text/plain": [
              "'DATA SCIENCE'"
            ],
            "application/vnd.google.colaboratory.intrinsic+json": {
              "type": "string"
            }
          },
          "metadata": {},
          "execution_count": 67
        }
      ]
    },
    {
      "cell_type": "code",
      "source": [
        "'Data' < 'Science' < 'Data Science'"
      ],
      "metadata": {
        "colab": {
          "base_uri": "https://localhost:8080/"
        },
        "id": "SlsBbXEfEtTM",
        "outputId": "e92997d4-5e8e-4020-b237-712e3750f65d"
      },
      "execution_count": null,
      "outputs": [
        {
          "output_type": "execute_result",
          "data": {
            "text/plain": [
              "False"
            ]
          },
          "metadata": {},
          "execution_count": 68
        }
      ]
    },
    {
      "cell_type": "code",
      "source": [
        "'Data' < 'Data Science' < 'Science'"
      ],
      "metadata": {
        "colab": {
          "base_uri": "https://localhost:8080/"
        },
        "id": "puddKA1OEyFb",
        "outputId": "ea17f65a-69ee-42ce-ced1-5fceea42b32f"
      },
      "execution_count": null,
      "outputs": [
        {
          "output_type": "execute_result",
          "data": {
            "text/plain": [
              "True"
            ]
          },
          "metadata": {},
          "execution_count": 69
        }
      ]
    },
    {
      "cell_type": "markdown",
      "source": [
        "####Modules\n",
        "\n",
        "Note: Modules are collections of functions. We use an import statement to provide access to a particular module."
      ],
      "metadata": {
        "id": "gBIpZRrEDBYQ"
      }
    },
    {
      "cell_type": "code",
      "source": [
        "import math\n",
        "import operator"
      ],
      "metadata": {
        "id": "X3dWzDZ3DJjf"
      },
      "execution_count": null,
      "outputs": []
    },
    {
      "cell_type": "code",
      "source": [
        "math.sqrt(25)"
      ],
      "metadata": {
        "colab": {
          "base_uri": "https://localhost:8080/"
        },
        "id": "2w26R0JkDXrh",
        "outputId": "37995f11-81e8-44ab-8fa1-e4ac8488c599"
      },
      "execution_count": null,
      "outputs": [
        {
          "output_type": "execute_result",
          "data": {
            "text/plain": [
              "5.0"
            ]
          },
          "metadata": {},
          "execution_count": 72
        }
      ]
    },
    {
      "cell_type": "code",
      "source": [
        "math.sqrt(operator.add(3, 6))"
      ],
      "metadata": {
        "colab": {
          "base_uri": "https://localhost:8080/"
        },
        "id": "CCeXsnlxDeiX",
        "outputId": "5f4193b7-7978-4630-e054-8210f402e90c"
      },
      "execution_count": null,
      "outputs": [
        {
          "output_type": "execute_result",
          "data": {
            "text/plain": [
              "3.0"
            ]
          },
          "metadata": {},
          "execution_count": 73
        }
      ]
    },
    {
      "cell_type": "code",
      "source": [
        "math.log(64, 2)"
      ],
      "metadata": {
        "colab": {
          "base_uri": "https://localhost:8080/"
        },
        "id": "7DM0q-qlDi37",
        "outputId": "270706dd-72ae-4628-e7fb-a8ebd60e7351"
      },
      "execution_count": null,
      "outputs": [
        {
          "output_type": "execute_result",
          "data": {
            "text/plain": [
              "6.0"
            ]
          },
          "metadata": {},
          "execution_count": 74
        }
      ]
    },
    {
      "cell_type": "code",
      "source": [
        "#Note: We can check the type of functions, i.e. whether they are built-in or not.\n",
        "\n",
        "type(max)"
      ],
      "metadata": {
        "colab": {
          "base_uri": "https://localhost:8080/"
        },
        "id": "FLiSol2tE4Iz",
        "outputId": "afc92a9f-40aa-4a5a-af9a-bb17b49d710e"
      },
      "execution_count": null,
      "outputs": [
        {
          "output_type": "execute_result",
          "data": {
            "text/plain": [
              "builtin_function_or_method"
            ]
          },
          "metadata": {},
          "execution_count": 75
        }
      ]
    },
    {
      "cell_type": "markdown",
      "source": [
        "### <font color='pink'>Data Structures</font>\n",
        "\n",
        "![image.png](data:image/png;base64,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)"
      ],
      "metadata": {
        "id": "OFTkQ2mDHQZe"
      }
    },
    {
      "cell_type": "markdown",
      "source": [
        "####List"
      ],
      "metadata": {
        "id": "GEnJ3KqTHcjn"
      }
    },
    {
      "cell_type": "code",
      "source": [
        "L = [1, 4, [3,5], 'A']\n",
        "L"
      ],
      "metadata": {
        "colab": {
          "base_uri": "https://localhost:8080/"
        },
        "id": "KI20ePpBeiWv",
        "outputId": "f9e03955-c7c5-4eaa-92bd-0d8a0bc5e39e"
      },
      "execution_count": null,
      "outputs": [
        {
          "output_type": "execute_result",
          "data": {
            "text/plain": [
              "[1, 4, [3, 5], 'A']"
            ]
          },
          "metadata": {},
          "execution_count": 76
        }
      ]
    },
    {
      "cell_type": "code",
      "source": [
        "L = []\n",
        "\n",
        "for i in range(10):\n",
        "  L.append(i)\n",
        "\n",
        "L"
      ],
      "metadata": {
        "colab": {
          "base_uri": "https://localhost:8080/"
        },
        "id": "U8tuwGGKHcQn",
        "outputId": "8ed1f671-0934-420a-b412-7ef6bf567b6e"
      },
      "execution_count": null,
      "outputs": [
        {
          "output_type": "execute_result",
          "data": {
            "text/plain": [
              "[0, 1, 2, 3, 4, 5, 6, 7, 8, 9]"
            ]
          },
          "metadata": {},
          "execution_count": 77
        }
      ]
    },
    {
      "cell_type": "code",
      "source": [
        "L = []\n",
        "\n",
        "for i in range(0, 10, 2):\n",
        "  L.append(i)\n",
        "\n",
        "L"
      ],
      "metadata": {
        "colab": {
          "base_uri": "https://localhost:8080/"
        },
        "id": "UfJsfhpeHlRq",
        "outputId": "cad90f6a-c5bb-4251-bcc1-4c299d349c73"
      },
      "execution_count": null,
      "outputs": [
        {
          "output_type": "execute_result",
          "data": {
            "text/plain": [
              "[0, 2, 4, 6, 8]"
            ]
          },
          "metadata": {},
          "execution_count": 78
        }
      ]
    },
    {
      "cell_type": "code",
      "source": [
        "L = [1, 5, 10]\n",
        "\n",
        "L.append([2, 4, 6, 7])\n",
        "\n",
        "L"
      ],
      "metadata": {
        "colab": {
          "base_uri": "https://localhost:8080/"
        },
        "id": "GngWp6Vj7eh7",
        "outputId": "31db9d3b-64c2-4d3c-800c-f3a42d237711"
      },
      "execution_count": null,
      "outputs": [
        {
          "output_type": "execute_result",
          "data": {
            "text/plain": [
              "[1, 5, 10, [2, 4, 6, 7]]"
            ]
          },
          "metadata": {},
          "execution_count": 80
        }
      ]
    },
    {
      "cell_type": "code",
      "source": [
        "L = [1, 5, 10]\n",
        "\n",
        "L.extend([2, 4, 6, 7])\n",
        "\n",
        "L"
      ],
      "metadata": {
        "colab": {
          "base_uri": "https://localhost:8080/"
        },
        "id": "Xe8FxmYN7V1H",
        "outputId": "ff5e8830-588f-419c-d582-742f01ee4d38"
      },
      "execution_count": null,
      "outputs": [
        {
          "output_type": "execute_result",
          "data": {
            "text/plain": [
              "[1, 5, 10, 2, 4, 6, 7]"
            ]
          },
          "metadata": {},
          "execution_count": 81
        }
      ]
    },
    {
      "cell_type": "code",
      "source": [
        "L = [i * 3 for i in range(5)]\n",
        "L"
      ],
      "metadata": {
        "colab": {
          "base_uri": "https://localhost:8080/"
        },
        "id": "T8N2i1vyHocW",
        "outputId": "22397381-d7b7-4881-b3b1-488f622cc09c"
      },
      "execution_count": null,
      "outputs": [
        {
          "output_type": "execute_result",
          "data": {
            "text/plain": [
              "[0, 3, 6, 9, 12]"
            ]
          },
          "metadata": {},
          "execution_count": 82
        }
      ]
    },
    {
      "cell_type": "code",
      "source": [
        "lists = [[1, 2], [3, 4], [5, 6]]\n",
        "\n",
        "res = []\n",
        "\n",
        "for list in lists:\n",
        "  res.append(list)\n",
        "\n",
        "res"
      ],
      "metadata": {
        "colab": {
          "base_uri": "https://localhost:8080/"
        },
        "id": "cjGPKqDpHuTJ",
        "outputId": "2619585a-e5e5-4fbf-df14-1e50a2e43b02"
      },
      "execution_count": null,
      "outputs": [
        {
          "output_type": "execute_result",
          "data": {
            "text/plain": [
              "[[1, 2], [3, 4], [5, 6]]"
            ]
          },
          "metadata": {},
          "execution_count": 83
        }
      ]
    },
    {
      "cell_type": "code",
      "source": [
        "lists = [[1,2], [3, 4], [5, 6]]\n",
        "\n",
        "res = []\n",
        "\n",
        "for list in lists:\n",
        "  res.extend(list)\n",
        "\n",
        "res"
      ],
      "metadata": {
        "colab": {
          "base_uri": "https://localhost:8080/"
        },
        "id": "27q4VrOwIBLa",
        "outputId": "d30ff2ce-6772-4145-84b8-2d711ef41136"
      },
      "execution_count": null,
      "outputs": [
        {
          "output_type": "execute_result",
          "data": {
            "text/plain": [
              "[1, 2, 3, 4, 5, 6]"
            ]
          },
          "metadata": {},
          "execution_count": 84
        }
      ]
    },
    {
      "cell_type": "code",
      "source": [
        "1 in [3, 4, 1, 6]"
      ],
      "metadata": {
        "colab": {
          "base_uri": "https://localhost:8080/"
        },
        "id": "bPHEBHYtIF_t",
        "outputId": "a876fd7f-b9e4-410c-e1f4-14bc2874146f"
      },
      "execution_count": null,
      "outputs": [
        {
          "output_type": "execute_result",
          "data": {
            "text/plain": [
              "True"
            ]
          },
          "metadata": {},
          "execution_count": 85
        }
      ]
    },
    {
      "cell_type": "code",
      "source": [
        "[3, 4] in lists"
      ],
      "metadata": {
        "colab": {
          "base_uri": "https://localhost:8080/"
        },
        "id": "fam3XClzIJSi",
        "outputId": "c717ee91-a410-4970-e8c8-c3d0c92c47b0"
      },
      "execution_count": null,
      "outputs": [
        {
          "output_type": "execute_result",
          "data": {
            "text/plain": [
              "True"
            ]
          },
          "metadata": {},
          "execution_count": 86
        }
      ]
    },
    {
      "cell_type": "code",
      "source": [
        "len([2, 6, 7])"
      ],
      "metadata": {
        "colab": {
          "base_uri": "https://localhost:8080/"
        },
        "id": "TGQCTQTNIL-a",
        "outputId": "1051e9d8-eed6-41f0-a365-7f01e4724524"
      },
      "execution_count": null,
      "outputs": [
        {
          "output_type": "execute_result",
          "data": {
            "text/plain": [
              "3"
            ]
          },
          "metadata": {},
          "execution_count": 87
        }
      ]
    },
    {
      "cell_type": "code",
      "source": [
        "L = [3, 5, 6, 7, 1, 2, 8, 9, 10, 23, 0, 11]\n",
        "L.sort()\n",
        "\n",
        "L"
      ],
      "metadata": {
        "colab": {
          "base_uri": "https://localhost:8080/"
        },
        "id": "ap4OU2nWIPaA",
        "outputId": "579ac2c7-6a5e-48da-80fc-6907b20ec4df"
      },
      "execution_count": null,
      "outputs": [
        {
          "output_type": "execute_result",
          "data": {
            "text/plain": [
              "[0, 1, 2, 3, 5, 6, 7, 8, 9, 10, 11, 23]"
            ]
          },
          "metadata": {},
          "execution_count": 88
        }
      ]
    },
    {
      "cell_type": "code",
      "source": [
        "L = ['Ana', 45, True]\n",
        "#Note: Can't sort a list when the elements are of mixed types!\n",
        "\n",
        "# L.sort()\n",
        "L"
      ],
      "metadata": {
        "colab": {
          "base_uri": "https://localhost:8080/"
        },
        "id": "RrjD8rf0IXNc",
        "outputId": "1e624b36-4617-4108-ba3d-5e7d27cb8f1f"
      },
      "execution_count": null,
      "outputs": [
        {
          "output_type": "execute_result",
          "data": {
            "text/plain": [
              "['Ana', 45, True]"
            ]
          },
          "metadata": {},
          "execution_count": 89
        }
      ]
    },
    {
      "cell_type": "code",
      "source": [
        "L[-1]"
      ],
      "metadata": {
        "colab": {
          "base_uri": "https://localhost:8080/"
        },
        "id": "ygLW7LVzJU8j",
        "outputId": "35656b21-18df-4eaa-fd65-0350c438cf67"
      },
      "execution_count": null,
      "outputs": [
        {
          "output_type": "execute_result",
          "data": {
            "text/plain": [
              "True"
            ]
          },
          "metadata": {},
          "execution_count": 90
        }
      ]
    },
    {
      "cell_type": "code",
      "source": [
        "L[0]"
      ],
      "metadata": {
        "colab": {
          "base_uri": "https://localhost:8080/"
        },
        "id": "vf-83-mpJYXK",
        "outputId": "8f405451-f87d-4ade-8981-eee18de67582"
      },
      "execution_count": null,
      "outputs": [
        {
          "output_type": "execute_result",
          "data": {
            "text/plain": [
              "'Ana'"
            ],
            "application/vnd.google.colaboratory.intrinsic+json": {
              "type": "string"
            }
          },
          "metadata": {},
          "execution_count": 91
        }
      ]
    },
    {
      "cell_type": "markdown",
      "source": [
        "####Tuple"
      ],
      "metadata": {
        "id": "vCBvbWNqJbho"
      }
    },
    {
      "cell_type": "code",
      "source": [
        "t = (1, 2, 3)\n",
        "t"
      ],
      "metadata": {
        "colab": {
          "base_uri": "https://localhost:8080/"
        },
        "id": "Jpag7-dNJdbp",
        "outputId": "ba04c428-b5fd-4488-efcb-90af3f2b8518"
      },
      "execution_count": null,
      "outputs": [
        {
          "output_type": "execute_result",
          "data": {
            "text/plain": [
              "(1, 2, 3)"
            ]
          },
          "metadata": {},
          "execution_count": 92
        }
      ]
    },
    {
      "cell_type": "code",
      "source": [
        "len(t)"
      ],
      "metadata": {
        "colab": {
          "base_uri": "https://localhost:8080/"
        },
        "id": "ElGBnccaJhAN",
        "outputId": "0ef0e778-4ee8-408c-b511-b7d490e77626"
      },
      "execution_count": null,
      "outputs": [
        {
          "output_type": "execute_result",
          "data": {
            "text/plain": [
              "3"
            ]
          },
          "metadata": {},
          "execution_count": 93
        }
      ]
    },
    {
      "cell_type": "code",
      "source": [
        "t[0]"
      ],
      "metadata": {
        "colab": {
          "base_uri": "https://localhost:8080/"
        },
        "id": "gIfWWow0Jivp",
        "outputId": "bd007895-a02c-4ca1-be7b-2f5f88c95c25"
      },
      "execution_count": null,
      "outputs": [
        {
          "output_type": "execute_result",
          "data": {
            "text/plain": [
              "1"
            ]
          },
          "metadata": {},
          "execution_count": 94
        }
      ]
    },
    {
      "cell_type": "code",
      "source": [
        "#Note: A tuple is immutable! The following lines result in ERROR!\n",
        "\n",
        "# t[1] = 4\n",
        "\n",
        "# t.append(4)"
      ],
      "metadata": {
        "id": "VnVqgszNJkrl"
      },
      "execution_count": null,
      "outputs": []
    },
    {
      "cell_type": "markdown",
      "source": [
        "####Dictionary"
      ],
      "metadata": {
        "id": "nVD4yomtJ7Vd"
      }
    },
    {
      "cell_type": "code",
      "source": [
        "books = {'Pride and Prejudice':2, 'Moby-Dick':7, 'Pinokio':3}\n",
        "books"
      ],
      "metadata": {
        "colab": {
          "base_uri": "https://localhost:8080/"
        },
        "id": "hAfLxMH_J9K_",
        "outputId": "0ece9add-8647-4c29-eeb8-d411918a85b6"
      },
      "execution_count": null,
      "outputs": [
        {
          "output_type": "execute_result",
          "data": {
            "text/plain": [
              "{'Pride and Prejudice': 2, 'Moby-Dick': 7, 'Pinokio': 3}"
            ]
          },
          "metadata": {},
          "execution_count": 98
        }
      ]
    },
    {
      "cell_type": "code",
      "source": [
        "books['Pride and Prejudice']"
      ],
      "metadata": {
        "colab": {
          "base_uri": "https://localhost:8080/"
        },
        "id": "1qP8wCdXKQLZ",
        "outputId": "e53a163a-db17-480a-95ae-c1ae6d688d62"
      },
      "execution_count": null,
      "outputs": [
        {
          "output_type": "execute_result",
          "data": {
            "text/plain": [
              "2"
            ]
          },
          "metadata": {},
          "execution_count": 99
        }
      ]
    },
    {
      "cell_type": "code",
      "source": [
        "books['Pride and Prejudice'] = 10\n",
        "books['Pride and Prejudice']"
      ],
      "metadata": {
        "colab": {
          "base_uri": "https://localhost:8080/"
        },
        "id": "PpeZMIxiKTnf",
        "outputId": "ab0f250d-1054-4eda-f817-67e639027cb8"
      },
      "execution_count": null,
      "outputs": [
        {
          "output_type": "execute_result",
          "data": {
            "text/plain": [
              "10"
            ]
          },
          "metadata": {},
          "execution_count": 100
        }
      ]
    },
    {
      "cell_type": "code",
      "source": [
        "books['To Kill a Mockingbird'] = 8\n",
        "books"
      ],
      "metadata": {
        "colab": {
          "base_uri": "https://localhost:8080/"
        },
        "id": "r3Kp1_znKXmM",
        "outputId": "16f70011-69e5-4bab-df5f-026355e3e50f"
      },
      "execution_count": null,
      "outputs": [
        {
          "output_type": "execute_result",
          "data": {
            "text/plain": [
              "{'Pride and Prejudice': 10,\n",
              " 'Moby-Dick': 7,\n",
              " 'Pinokio': 3,\n",
              " 'To Kill a Mockingbird': 8}"
            ]
          },
          "metadata": {},
          "execution_count": 101
        }
      ]
    },
    {
      "cell_type": "markdown",
      "source": [
        "####Set"
      ],
      "metadata": {
        "id": "HqUh52lyKi5p"
      }
    },
    {
      "cell_type": "code",
      "source": [
        "primes = {2, 3, 5, 7}\n",
        "odds = {1, 3, 5, 7, 9}"
      ],
      "metadata": {
        "id": "kX6jnm5CKk0y"
      },
      "execution_count": null,
      "outputs": []
    },
    {
      "cell_type": "code",
      "source": [
        "#Note: Elements in sets are unique!\n",
        "primes = {2, 2, 2, 2, 2, 3, 3, 5, 7, 2, 2}\n",
        "primes"
      ],
      "metadata": {
        "colab": {
          "base_uri": "https://localhost:8080/"
        },
        "id": "ooLnlSxlKr0b",
        "outputId": "aacc1fc4-e17a-44c3-b115-fdca441b112b"
      },
      "execution_count": null,
      "outputs": [
        {
          "output_type": "execute_result",
          "data": {
            "text/plain": [
              "{2, 3, 5, 7}"
            ]
          },
          "metadata": {},
          "execution_count": 104
        }
      ]
    },
    {
      "cell_type": "code",
      "source": [
        "#Note: Set union joins intems found in either set into one resulting set.\n",
        "#Note: We can create a union with the | operator or with the union() method.\n",
        "primes | odds\n",
        "\n",
        "primes.union(odds)"
      ],
      "metadata": {
        "colab": {
          "base_uri": "https://localhost:8080/"
        },
        "id": "Z5607X6iK3ho",
        "outputId": "6e26c990-01ae-467d-bdde-2e3288cdf10a"
      },
      "execution_count": null,
      "outputs": [
        {
          "output_type": "execute_result",
          "data": {
            "text/plain": [
              "{1, 2, 3, 5, 7, 9}"
            ]
          },
          "metadata": {},
          "execution_count": 105
        }
      ]
    },
    {
      "cell_type": "code",
      "source": [
        "#Note: Set intersection joins intems found in both sets into one resulting set.\n",
        "#Note: We can create an intersection with the & operator or with the intersection() method.\n",
        "primes & odds\n",
        "\n",
        "primes.intersection(odds)"
      ],
      "metadata": {
        "colab": {
          "base_uri": "https://localhost:8080/"
        },
        "id": "nhVYO8VXLK0x",
        "outputId": "a46859d3-d978-4c06-95f4-3e1a24caa391"
      },
      "execution_count": null,
      "outputs": [
        {
          "output_type": "execute_result",
          "data": {
            "text/plain": [
              "{3, 5, 7}"
            ]
          },
          "metadata": {},
          "execution_count": 106
        }
      ]
    },
    {
      "cell_type": "code",
      "source": [
        "#Note: Set difference includes items found in the first but not in the second set into one resulting set.\n",
        "#Note: We can create a difference with the - operator or with the difference() method.\n",
        "primes - odds\n",
        "\n",
        "primes.difference(odds)"
      ],
      "metadata": {
        "colab": {
          "base_uri": "https://localhost:8080/"
        },
        "id": "u9dky2F5LUj9",
        "outputId": "aeeb2e8f-5f63-4c89-fbff-b94168420fa3"
      },
      "execution_count": null,
      "outputs": [
        {
          "output_type": "execute_result",
          "data": {
            "text/plain": [
              "{2}"
            ]
          },
          "metadata": {},
          "execution_count": 107
        }
      ]
    },
    {
      "cell_type": "code",
      "source": [
        "#Note: Symmetric set difference includes items found one and not the other set into one resulting set.\n",
        "#Note: We can create a symmetric difference with the ^ operator or with the symmetric_difference() method.\n",
        "primes ^ odds\n",
        "\n",
        "primes.symmetric_difference(odds)"
      ],
      "metadata": {
        "colab": {
          "base_uri": "https://localhost:8080/"
        },
        "id": "sup4FCiML21q",
        "outputId": "70df4b2e-56ac-4cf1-c977-940c01d9a981"
      },
      "execution_count": null,
      "outputs": [
        {
          "output_type": "execute_result",
          "data": {
            "text/plain": [
              "{1, 2, 9}"
            ]
          },
          "metadata": {},
          "execution_count": 108
        }
      ]
    },
    {
      "cell_type": "markdown",
      "source": [
        "### <font color='orange'>Custom Functions, Errors and Exceptions</font>"
      ],
      "metadata": {
        "id": "0s9m53WKPLRe"
      }
    },
    {
      "cell_type": "code",
      "source": [
        "def fibonacci(n, a=0, b=1):\n",
        "  L = []\n",
        "  while len(L) < n:\n",
        "    a, b = b, a+b\n",
        "    L.append(a)\n",
        "  return L"
      ],
      "metadata": {
        "id": "bIQ2EzHpPYam"
      },
      "execution_count": null,
      "outputs": []
    },
    {
      "cell_type": "code",
      "source": [
        "fibonacci(10)"
      ],
      "metadata": {
        "colab": {
          "base_uri": "https://localhost:8080/"
        },
        "id": "lSwxix4RPobR",
        "outputId": "2c724560-d4c5-419f-cb51-a65bec9ed90b"
      },
      "execution_count": null,
      "outputs": [
        {
          "output_type": "execute_result",
          "data": {
            "text/plain": [
              "[1, 1, 2, 3, 5, 8, 13, 21, 34, 55]"
            ]
          },
          "metadata": {},
          "execution_count": 111
        }
      ]
    },
    {
      "cell_type": "code",
      "source": [
        "fibonacci(10, 0, 2)"
      ],
      "metadata": {
        "colab": {
          "base_uri": "https://localhost:8080/"
        },
        "id": "Uq3MLRPDPqS-",
        "outputId": "4304913e-303d-4e91-d14d-248d6d9ae837"
      },
      "execution_count": null,
      "outputs": [
        {
          "output_type": "execute_result",
          "data": {
            "text/plain": [
              "[2, 2, 4, 6, 10, 16, 26, 42, 68, 110]"
            ]
          },
          "metadata": {},
          "execution_count": 112
        }
      ]
    },
    {
      "cell_type": "code",
      "source": [
        "#Note: The following line will result in error of type ZeroDivisionError.\n",
        "# 5 / 0"
      ],
      "metadata": {
        "id": "MOMxPZXwPyX3"
      },
      "execution_count": null,
      "outputs": []
    },
    {
      "cell_type": "code",
      "source": [
        "try:\n",
        "  x = 1/0\n",
        "  print(\"Running smoothly! Awesome!\")\n",
        "except:\n",
        "  print(\"Oops! An error has occured!\")"
      ],
      "metadata": {
        "colab": {
          "base_uri": "https://localhost:8080/"
        },
        "id": "PyFBpAgxP77Z",
        "outputId": "2e0c07a6-e3ae-4413-c24f-8a409b763aef"
      },
      "execution_count": null,
      "outputs": [
        {
          "output_type": "stream",
          "name": "stdout",
          "text": [
            "Oops! An error has occured!\n"
          ]
        }
      ]
    },
    {
      "cell_type": "markdown",
      "source": [
        "### <font color='green'>Control Flow</font>"
      ],
      "metadata": {
        "id": "g0g_E39QMvmd"
      }
    },
    {
      "cell_type": "markdown",
      "source": [
        "####If-Else, If-Elif-Else (Shown with user-defined functions)"
      ],
      "metadata": {
        "id": "wMA9j42ENCHb"
      }
    },
    {
      "cell_type": "code",
      "source": [
        "def test_positive(x):\n",
        "  if x >= 0:\n",
        "    return True\n",
        "  else:\n",
        "    return False"
      ],
      "metadata": {
        "id": "LlT4T4YgMvHd"
      },
      "execution_count": null,
      "outputs": []
    },
    {
      "cell_type": "code",
      "source": [
        "test_positive(0)"
      ],
      "metadata": {
        "colab": {
          "base_uri": "https://localhost:8080/"
        },
        "id": "zoFag5NhNrDT",
        "outputId": "08a65e62-6b81-4138-e77c-11c6ececbd31"
      },
      "execution_count": null,
      "outputs": [
        {
          "output_type": "execute_result",
          "data": {
            "text/plain": [
              "True"
            ]
          },
          "metadata": {},
          "execution_count": 116
        }
      ]
    },
    {
      "cell_type": "code",
      "source": [
        "test_positive(12)"
      ],
      "metadata": {
        "colab": {
          "base_uri": "https://localhost:8080/"
        },
        "id": "7yUOAnLCNuLJ",
        "outputId": "be6af1e8-c1de-4df7-ea47-0020c2d52e20"
      },
      "execution_count": null,
      "outputs": [
        {
          "output_type": "execute_result",
          "data": {
            "text/plain": [
              "True"
            ]
          },
          "metadata": {},
          "execution_count": 117
        }
      ]
    },
    {
      "cell_type": "code",
      "source": [
        "test_positive(-19)"
      ],
      "metadata": {
        "colab": {
          "base_uri": "https://localhost:8080/"
        },
        "id": "YCkFu1QiNwTA",
        "outputId": "0de12054-fca1-422f-b324-9fac6af15d74"
      },
      "execution_count": null,
      "outputs": [
        {
          "output_type": "execute_result",
          "data": {
            "text/plain": [
              "False"
            ]
          },
          "metadata": {},
          "execution_count": 118
        }
      ]
    },
    {
      "cell_type": "code",
      "source": [
        "def test_positive_advanced(x):\n",
        "  if x > 0:\n",
        "    print(\"positive\")\n",
        "  elif x == 0:\n",
        "    print(\"zero\")\n",
        "  else:\n",
        "    print(\"negative\")"
      ],
      "metadata": {
        "id": "E5RbJiBmNy7Q"
      },
      "execution_count": null,
      "outputs": []
    },
    {
      "cell_type": "code",
      "source": [
        "test_positive_advanced(0)"
      ],
      "metadata": {
        "colab": {
          "base_uri": "https://localhost:8080/"
        },
        "id": "FEnCc0KXOAGZ",
        "outputId": "abf4c21c-2ece-45f7-fd77-57142bae4e11"
      },
      "execution_count": null,
      "outputs": [
        {
          "output_type": "stream",
          "name": "stdout",
          "text": [
            "zero\n"
          ]
        }
      ]
    },
    {
      "cell_type": "code",
      "source": [
        "test_positive_advanced(15)"
      ],
      "metadata": {
        "colab": {
          "base_uri": "https://localhost:8080/"
        },
        "id": "zpdU46CXOCWU",
        "outputId": "70cd9580-d3e7-4ec0-9e54-e00bce103364"
      },
      "execution_count": null,
      "outputs": [
        {
          "output_type": "stream",
          "name": "stdout",
          "text": [
            "positive\n"
          ]
        }
      ]
    },
    {
      "cell_type": "code",
      "source": [
        "test_positive_advanced(-10)"
      ],
      "metadata": {
        "colab": {
          "base_uri": "https://localhost:8080/"
        },
        "id": "92J5WB4yODi1",
        "outputId": "3a3ea9da-a295-44d0-c76d-5d11f30e2f56"
      },
      "execution_count": null,
      "outputs": [
        {
          "output_type": "stream",
          "name": "stdout",
          "text": [
            "negative\n"
          ]
        }
      ]
    },
    {
      "cell_type": "markdown",
      "source": [
        "####Loops"
      ],
      "metadata": {
        "id": "GOrJtZD6OGCO"
      }
    },
    {
      "cell_type": "code",
      "source": [
        "for n in [1, 9, 8, 10]:\n",
        "  print(n)"
      ],
      "metadata": {
        "colab": {
          "base_uri": "https://localhost:8080/"
        },
        "id": "8mbGWhEbOLj0",
        "outputId": "3b2bfa41-30c2-4fb8-e7f3-4c2cc83b3775"
      },
      "execution_count": null,
      "outputs": [
        {
          "output_type": "stream",
          "name": "stdout",
          "text": [
            "1\n",
            "9\n",
            "8\n",
            "10\n"
          ]
        }
      ]
    },
    {
      "cell_type": "code",
      "source": [
        "for num in [1, 9, 8, 10]:\n",
        "  print(num, end=' ')"
      ],
      "metadata": {
        "colab": {
          "base_uri": "https://localhost:8080/"
        },
        "id": "bXKoNcObOR_N",
        "outputId": "e2123246-398b-40ab-d980-cecc540ec144"
      },
      "execution_count": null,
      "outputs": [
        {
          "output_type": "stream",
          "name": "stdout",
          "text": [
            "1 9 8 10 "
          ]
        }
      ]
    },
    {
      "cell_type": "code",
      "source": [
        "i = 0\n",
        "\n",
        "while i < 10:\n",
        "  print(i, end=' ')\n",
        "  i += 2"
      ],
      "metadata": {
        "colab": {
          "base_uri": "https://localhost:8080/"
        },
        "id": "fPheTRteObvR",
        "outputId": "e3be6099-9645-458b-fdeb-9e20adcd02d8"
      },
      "execution_count": null,
      "outputs": [
        {
          "output_type": "stream",
          "name": "stdout",
          "text": [
            "0 2 4 6 8 "
          ]
        }
      ]
    },
    {
      "cell_type": "markdown",
      "source": [
        "####Break and continue"
      ],
      "metadata": {
        "id": "dkOAMfIAOns1"
      }
    },
    {
      "cell_type": "code",
      "source": [
        "for num in range(15):\n",
        "  if num % 2 != 0:\n",
        "    continue\n",
        "  print(num, end=' ')"
      ],
      "metadata": {
        "colab": {
          "base_uri": "https://localhost:8080/"
        },
        "id": "N-NxT31GOmYh",
        "outputId": "0d1cd83e-80ab-47ea-a64e-a28d58c72436"
      },
      "execution_count": null,
      "outputs": [
        {
          "output_type": "stream",
          "name": "stdout",
          "text": [
            "0 2 4 6 8 10 12 14 "
          ]
        }
      ]
    },
    {
      "cell_type": "code",
      "source": [
        "a, b = 1, 2\n",
        "L = []\n",
        "\n",
        "while True:\n",
        "  (a, b) = (b, a + b)\n",
        "  if a > 100:\n",
        "    break\n",
        "  L.append(a)\n",
        "\n",
        "L"
      ],
      "metadata": {
        "colab": {
          "base_uri": "https://localhost:8080/"
        },
        "id": "uvs0rm1MO5NV",
        "outputId": "87838227-1df2-4e0f-e487-3c115341448c"
      },
      "execution_count": null,
      "outputs": [
        {
          "output_type": "execute_result",
          "data": {
            "text/plain": [
              "[2, 3, 5, 8, 13, 21, 34, 55, 89]"
            ]
          },
          "metadata": {},
          "execution_count": 127
        }
      ]
    },
    {
      "cell_type": "markdown",
      "source": [
        "### <font color='pink'>Data Science Tools</font>"
      ],
      "metadata": {
        "id": "9s-OpKv8QtwH"
      }
    },
    {
      "cell_type": "markdown",
      "source": [
        "####Working with Sequences using NumPy (Numerical Python)\n",
        "\n",
        "*Note: Sequence is a generic term for an ordered set. Strings, lists and tuples are all sequences.*"
      ],
      "metadata": {
        "id": "TSfxp9iiBUaT"
      }
    },
    {
      "cell_type": "code",
      "source": [
        "#Resource: https://numpy.org/\n",
        "#Note: NumPy means Numerical Python\n",
        "#Note: NumPy is a Python library for working with numerical data, multidimensional array and matrix data structures.\n",
        "#Note: NumPy API is used extensively in Pandas, SciPy, Matplotlib, scikit-learn etc.\n",
        "import numpy as np"
      ],
      "metadata": {
        "id": "tDXM-Au7BWHY"
      },
      "execution_count": null,
      "outputs": []
    },
    {
      "cell_type": "code",
      "source": [
        "base_temperature = 14.48\n",
        "\n",
        "temperatures = np.array([base_temperature - 0.880, base_temperature + 0.12, base_temperature + 0.69])\n",
        "temperatures"
      ],
      "metadata": {
        "colab": {
          "base_uri": "https://localhost:8080/"
        },
        "id": "lyRlaDRcGj-U",
        "outputId": "f9d20ae3-f61e-4e70-a628-579bb33c058f"
      },
      "execution_count": null,
      "outputs": [
        {
          "output_type": "execute_result",
          "data": {
            "text/plain": [
              "array([13.6 , 14.6 , 15.17])"
            ]
          },
          "metadata": {},
          "execution_count": 130
        }
      ]
    },
    {
      "cell_type": "code",
      "source": [
        "type(temperatures)"
      ],
      "metadata": {
        "colab": {
          "base_uri": "https://localhost:8080/"
        },
        "id": "uiMBSwmNG7-r",
        "outputId": "328f6b53-8187-4e2f-da71-4804e8b2fb0d"
      },
      "execution_count": null,
      "outputs": [
        {
          "output_type": "execute_result",
          "data": {
            "text/plain": [
              "numpy.ndarray"
            ]
          },
          "metadata": {},
          "execution_count": 131
        }
      ]
    },
    {
      "cell_type": "code",
      "source": [
        "farenheit_temps = (9/5) * temperatures + 32\n",
        "farenheit_temps"
      ],
      "metadata": {
        "colab": {
          "base_uri": "https://localhost:8080/"
        },
        "id": "RAlKFD1GIySC",
        "outputId": "ce9ada07-812e-4714-cc4c-ac598fe44b5a"
      },
      "execution_count": null,
      "outputs": [
        {
          "output_type": "execute_result",
          "data": {
            "text/plain": [
              "array([56.48 , 58.28 , 59.306])"
            ]
          },
          "metadata": {},
          "execution_count": 132
        }
      ]
    },
    {
      "cell_type": "code",
      "source": [
        "temperatures = [base_temperature, base_temperature + 20, base_temperature * 10]\n",
        "temperatures"
      ],
      "metadata": {
        "colab": {
          "base_uri": "https://localhost:8080/"
        },
        "id": "18F0T3YZHA-x",
        "outputId": "6393f8f6-018b-46fb-9662-a3667a9eed5e"
      },
      "execution_count": null,
      "outputs": [
        {
          "output_type": "execute_result",
          "data": {
            "text/plain": [
              "[14.48, 34.480000000000004, 144.8]"
            ]
          },
          "metadata": {},
          "execution_count": 133
        }
      ]
    },
    {
      "cell_type": "code",
      "source": [
        "type(temperatures)"
      ],
      "metadata": {
        "colab": {
          "base_uri": "https://localhost:8080/"
        },
        "id": "6xMDrHmIHF_X",
        "outputId": "fa6f7fda-331d-4d44-ef1e-c2cd0e531ce6"
      },
      "execution_count": null,
      "outputs": [
        {
          "output_type": "execute_result",
          "data": {
            "text/plain": [
              "list"
            ]
          },
          "metadata": {},
          "execution_count": 134
        }
      ]
    },
    {
      "cell_type": "code",
      "source": [
        "np.arange(5)"
      ],
      "metadata": {
        "colab": {
          "base_uri": "https://localhost:8080/"
        },
        "id": "EGW1XLgRJG72",
        "outputId": "78b74532-2541-4f30-aafd-e30f1b077bdb"
      },
      "execution_count": null,
      "outputs": [
        {
          "output_type": "execute_result",
          "data": {
            "text/plain": [
              "array([0, 1, 2, 3, 4])"
            ]
          },
          "metadata": {},
          "execution_count": 135
        }
      ]
    },
    {
      "cell_type": "code",
      "source": [
        "np.arange(0, 10, 5)"
      ],
      "metadata": {
        "colab": {
          "base_uri": "https://localhost:8080/"
        },
        "id": "PQBoUvk0JK-y",
        "outputId": "f9995b9f-8d40-4c36-da4f-e21992238d78"
      },
      "execution_count": null,
      "outputs": [
        {
          "output_type": "execute_result",
          "data": {
            "text/plain": [
              "array([0, 5])"
            ]
          },
          "metadata": {},
          "execution_count": 136
        }
      ]
    },
    {
      "cell_type": "code",
      "source": [
        "x = np.arange(1, 10)"
      ],
      "metadata": {
        "id": "1rUTPcktJOed"
      },
      "execution_count": null,
      "outputs": []
    },
    {
      "cell_type": "code",
      "source": [
        "x"
      ],
      "metadata": {
        "colab": {
          "base_uri": "https://localhost:8080/"
        },
        "id": "sbVlNx6yRaQU",
        "outputId": "93d25635-2728-4a99-b8be-cdbdfdaf8d47"
      },
      "execution_count": null,
      "outputs": [
        {
          "output_type": "execute_result",
          "data": {
            "text/plain": [
              "array([1, 2, 3, 4, 5, 6, 7, 8, 9])"
            ]
          },
          "metadata": {},
          "execution_count": 154
        }
      ]
    },
    {
      "cell_type": "code",
      "source": [
        "x ** 2"
      ],
      "metadata": {
        "colab": {
          "base_uri": "https://localhost:8080/"
        },
        "id": "i1EbLyLORIye",
        "outputId": "23be4492-4f5b-4341-d933-9f994ff5590f"
      },
      "execution_count": null,
      "outputs": [
        {
          "output_type": "execute_result",
          "data": {
            "text/plain": [
              "array([ 1,  4,  9, 16, 25, 36, 49, 64, 81])"
            ]
          },
          "metadata": {},
          "execution_count": 138
        }
      ]
    },
    {
      "cell_type": "code",
      "source": [
        "M = x.reshape(3, 3)\n",
        "M"
      ],
      "metadata": {
        "colab": {
          "base_uri": "https://localhost:8080/"
        },
        "id": "zHF8etpqSHjh",
        "outputId": "58963777-ef15-4cf0-bf3c-223a2812dbe4"
      },
      "execution_count": null,
      "outputs": [
        {
          "output_type": "execute_result",
          "data": {
            "text/plain": [
              "array([[1, 2, 3],\n",
              "       [4, 5, 6],\n",
              "       [7, 8, 9]])"
            ]
          },
          "metadata": {},
          "execution_count": 139
        }
      ]
    },
    {
      "cell_type": "code",
      "source": [
        "#Note: This is transpose.\n",
        "M.T"
      ],
      "metadata": {
        "colab": {
          "base_uri": "https://localhost:8080/"
        },
        "id": "3JoxHGt4SRXx",
        "outputId": "82a81ea7-468e-482e-96b7-9d2c42442f75"
      },
      "execution_count": null,
      "outputs": [
        {
          "output_type": "execute_result",
          "data": {
            "text/plain": [
              "array([[1, 4, 7],\n",
              "       [2, 5, 8],\n",
              "       [3, 6, 9]])"
            ]
          },
          "metadata": {},
          "execution_count": 140
        }
      ]
    },
    {
      "cell_type": "markdown",
      "source": [
        "####Pandas"
      ],
      "metadata": {
        "id": "iCLD5dGMTDyU"
      }
    },
    {
      "cell_type": "code",
      "source": [
        "#Resource: https://pandas.pydata.org/\n",
        "#Note: Pandas is extensively used in Data Science/ Data Analysis and Machine Learning.\n",
        "#Note: Pandas can be used for: data cleansing, data fill, data normalization, merges and joins, visualization, loading and saving data etc.\n",
        "#Note: Pandas is mostly used with labeled column-oriented data\n",
        "\n",
        "import pandas as pd"
      ],
      "metadata": {
        "id": "kOunNH_aBdxJ"
      },
      "execution_count": null,
      "outputs": []
    },
    {
      "cell_type": "code",
      "source": [
        "df = pd.DataFrame({'label': ['A', 'B', 'C', 'D', 'A', 'B', 'C', 'F'], 'value': [1, 2, 3, 4, 5, 6, 7, 8]})\n",
        "df"
      ],
      "metadata": {
        "colab": {
          "base_uri": "https://localhost:8080/"
        },
        "id": "DdlC7GznSb8t",
        "outputId": "f40c9392-19f6-4e50-f26d-72bdbf67dc79"
      },
      "execution_count": null,
      "outputs": [
        {
          "output_type": "execute_result",
          "data": {
            "text/plain": [
              "  label  value\n",
              "0     A      1\n",
              "1     B      2\n",
              "2     C      3\n",
              "3     D      4\n",
              "4     A      5\n",
              "5     B      6\n",
              "6     C      7\n",
              "7     F      8"
            ],
            "text/html": [
              "\n",
              "  <div id=\"df-836e8d48-149d-4111-94df-f2a9b8753543\" class=\"colab-df-container\">\n",
              "    <div>\n",
              "<style scoped>\n",
              "    .dataframe tbody tr th:only-of-type {\n",
              "        vertical-align: middle;\n",
              "    }\n",
              "\n",
              "    .dataframe tbody tr th {\n",
              "        vertical-align: top;\n",
              "    }\n",
              "\n",
              "    .dataframe thead th {\n",
              "        text-align: right;\n",
              "    }\n",
              "</style>\n",
              "<table border=\"1\" class=\"dataframe\">\n",
              "  <thead>\n",
              "    <tr style=\"text-align: right;\">\n",
              "      <th></th>\n",
              "      <th>label</th>\n",
              "      <th>value</th>\n",
              "    </tr>\n",
              "  </thead>\n",
              "  <tbody>\n",
              "    <tr>\n",
              "      <th>0</th>\n",
              "      <td>A</td>\n",
              "      <td>1</td>\n",
              "    </tr>\n",
              "    <tr>\n",
              "      <th>1</th>\n",
              "      <td>B</td>\n",
              "      <td>2</td>\n",
              "    </tr>\n",
              "    <tr>\n",
              "      <th>2</th>\n",
              "      <td>C</td>\n",
              "      <td>3</td>\n",
              "    </tr>\n",
              "    <tr>\n",
              "      <th>3</th>\n",
              "      <td>D</td>\n",
              "      <td>4</td>\n",
              "    </tr>\n",
              "    <tr>\n",
              "      <th>4</th>\n",
              "      <td>A</td>\n",
              "      <td>5</td>\n",
              "    </tr>\n",
              "    <tr>\n",
              "      <th>5</th>\n",
              "      <td>B</td>\n",
              "      <td>6</td>\n",
              "    </tr>\n",
              "    <tr>\n",
              "      <th>6</th>\n",
              "      <td>C</td>\n",
              "      <td>7</td>\n",
              "    </tr>\n",
              "    <tr>\n",
              "      <th>7</th>\n",
              "      <td>F</td>\n",
              "      <td>8</td>\n",
              "    </tr>\n",
              "  </tbody>\n",
              "</table>\n",
              "</div>\n",
              "    <div class=\"colab-df-buttons\">\n",
              "\n",
              "  <div class=\"colab-df-container\">\n",
              "    <button class=\"colab-df-convert\" onclick=\"convertToInteractive('df-836e8d48-149d-4111-94df-f2a9b8753543')\"\n",
              "            title=\"Convert this dataframe to an interactive table.\"\n",
              "            style=\"display:none;\">\n",
              "\n",
              "  <svg xmlns=\"http://www.w3.org/2000/svg\" height=\"24px\" viewBox=\"0 -960 960 960\">\n",
              "    <path d=\"M120-120v-720h720v720H120Zm60-500h600v-160H180v160Zm220 220h160v-160H400v160Zm0 220h160v-160H400v160ZM180-400h160v-160H180v160Zm440 0h160v-160H620v160ZM180-180h160v-160H180v160Zm440 0h160v-160H620v160Z\"/>\n",
              "  </svg>\n",
              "    </button>\n",
              "\n",
              "  <style>\n",
              "    .colab-df-container {\n",
              "      display:flex;\n",
              "      gap: 12px;\n",
              "    }\n",
              "\n",
              "    .colab-df-convert {\n",
              "      background-color: #E8F0FE;\n",
              "      border: none;\n",
              "      border-radius: 50%;\n",
              "      cursor: pointer;\n",
              "      display: none;\n",
              "      fill: #1967D2;\n",
              "      height: 32px;\n",
              "      padding: 0 0 0 0;\n",
              "      width: 32px;\n",
              "    }\n",
              "\n",
              "    .colab-df-convert:hover {\n",
              "      background-color: #E2EBFA;\n",
              "      box-shadow: 0px 1px 2px rgba(60, 64, 67, 0.3), 0px 1px 3px 1px rgba(60, 64, 67, 0.15);\n",
              "      fill: #174EA6;\n",
              "    }\n",
              "\n",
              "    .colab-df-buttons div {\n",
              "      margin-bottom: 4px;\n",
              "    }\n",
              "\n",
              "    [theme=dark] .colab-df-convert {\n",
              "      background-color: #3B4455;\n",
              "      fill: #D2E3FC;\n",
              "    }\n",
              "\n",
              "    [theme=dark] .colab-df-convert:hover {\n",
              "      background-color: #434B5C;\n",
              "      box-shadow: 0px 1px 3px 1px rgba(0, 0, 0, 0.15);\n",
              "      filter: drop-shadow(0px 1px 2px rgba(0, 0, 0, 0.3));\n",
              "      fill: #FFFFFF;\n",
              "    }\n",
              "  </style>\n",
              "\n",
              "    <script>\n",
              "      const buttonEl =\n",
              "        document.querySelector('#df-836e8d48-149d-4111-94df-f2a9b8753543 button.colab-df-convert');\n",
              "      buttonEl.style.display =\n",
              "        google.colab.kernel.accessAllowed ? 'block' : 'none';\n",
              "\n",
              "      async function convertToInteractive(key) {\n",
              "        const element = document.querySelector('#df-836e8d48-149d-4111-94df-f2a9b8753543');\n",
              "        const dataTable =\n",
              "          await google.colab.kernel.invokeFunction('convertToInteractive',\n",
              "                                                    [key], {});\n",
              "        if (!dataTable) return;\n",
              "\n",
              "        const docLinkHtml = 'Like what you see? Visit the ' +\n",
              "          '<a target=\"_blank\" href=https://colab.research.google.com/notebooks/data_table.ipynb>data table notebook</a>'\n",
              "          + ' to learn more about interactive tables.';\n",
              "        element.innerHTML = '';\n",
              "        dataTable['output_type'] = 'display_data';\n",
              "        await google.colab.output.renderOutput(dataTable, element);\n",
              "        const docLink = document.createElement('div');\n",
              "        docLink.innerHTML = docLinkHtml;\n",
              "        element.appendChild(docLink);\n",
              "      }\n",
              "    </script>\n",
              "  </div>\n",
              "\n",
              "\n",
              "<div id=\"df-35f0f861-2c14-4552-a403-f3c79748f104\">\n",
              "  <button class=\"colab-df-quickchart\" onclick=\"quickchart('df-35f0f861-2c14-4552-a403-f3c79748f104')\"\n",
              "            title=\"Suggest charts.\"\n",
              "            style=\"display:none;\">\n",
              "\n",
              "<svg xmlns=\"http://www.w3.org/2000/svg\" height=\"24px\"viewBox=\"0 0 24 24\"\n",
              "     width=\"24px\">\n",
              "    <g>\n",
              "        <path d=\"M19 3H5c-1.1 0-2 .9-2 2v14c0 1.1.9 2 2 2h14c1.1 0 2-.9 2-2V5c0-1.1-.9-2-2-2zM9 17H7v-7h2v7zm4 0h-2V7h2v10zm4 0h-2v-4h2v4z\"/>\n",
              "    </g>\n",
              "</svg>\n",
              "  </button>\n",
              "\n",
              "<style>\n",
              "  .colab-df-quickchart {\n",
              "      --bg-color: #E8F0FE;\n",
              "      --fill-color: #1967D2;\n",
              "      --hover-bg-color: #E2EBFA;\n",
              "      --hover-fill-color: #174EA6;\n",
              "      --disabled-fill-color: #AAA;\n",
              "      --disabled-bg-color: #DDD;\n",
              "  }\n",
              "\n",
              "  [theme=dark] .colab-df-quickchart {\n",
              "      --bg-color: #3B4455;\n",
              "      --fill-color: #D2E3FC;\n",
              "      --hover-bg-color: #434B5C;\n",
              "      --hover-fill-color: #FFFFFF;\n",
              "      --disabled-bg-color: #3B4455;\n",
              "      --disabled-fill-color: #666;\n",
              "  }\n",
              "\n",
              "  .colab-df-quickchart {\n",
              "    background-color: var(--bg-color);\n",
              "    border: none;\n",
              "    border-radius: 50%;\n",
              "    cursor: pointer;\n",
              "    display: none;\n",
              "    fill: var(--fill-color);\n",
              "    height: 32px;\n",
              "    padding: 0;\n",
              "    width: 32px;\n",
              "  }\n",
              "\n",
              "  .colab-df-quickchart:hover {\n",
              "    background-color: var(--hover-bg-color);\n",
              "    box-shadow: 0 1px 2px rgba(60, 64, 67, 0.3), 0 1px 3px 1px rgba(60, 64, 67, 0.15);\n",
              "    fill: var(--button-hover-fill-color);\n",
              "  }\n",
              "\n",
              "  .colab-df-quickchart-complete:disabled,\n",
              "  .colab-df-quickchart-complete:disabled:hover {\n",
              "    background-color: var(--disabled-bg-color);\n",
              "    fill: var(--disabled-fill-color);\n",
              "    box-shadow: none;\n",
              "  }\n",
              "\n",
              "  .colab-df-spinner {\n",
              "    border: 2px solid var(--fill-color);\n",
              "    border-color: transparent;\n",
              "    border-bottom-color: var(--fill-color);\n",
              "    animation:\n",
              "      spin 1s steps(1) infinite;\n",
              "  }\n",
              "\n",
              "  @keyframes spin {\n",
              "    0% {\n",
              "      border-color: transparent;\n",
              "      border-bottom-color: var(--fill-color);\n",
              "      border-left-color: var(--fill-color);\n",
              "    }\n",
              "    20% {\n",
              "      border-color: transparent;\n",
              "      border-left-color: var(--fill-color);\n",
              "      border-top-color: var(--fill-color);\n",
              "    }\n",
              "    30% {\n",
              "      border-color: transparent;\n",
              "      border-left-color: var(--fill-color);\n",
              "      border-top-color: var(--fill-color);\n",
              "      border-right-color: var(--fill-color);\n",
              "    }\n",
              "    40% {\n",
              "      border-color: transparent;\n",
              "      border-right-color: var(--fill-color);\n",
              "      border-top-color: var(--fill-color);\n",
              "    }\n",
              "    60% {\n",
              "      border-color: transparent;\n",
              "      border-right-color: var(--fill-color);\n",
              "    }\n",
              "    80% {\n",
              "      border-color: transparent;\n",
              "      border-right-color: var(--fill-color);\n",
              "      border-bottom-color: var(--fill-color);\n",
              "    }\n",
              "    90% {\n",
              "      border-color: transparent;\n",
              "      border-bottom-color: var(--fill-color);\n",
              "    }\n",
              "  }\n",
              "</style>\n",
              "\n",
              "  <script>\n",
              "    async function quickchart(key) {\n",
              "      const quickchartButtonEl =\n",
              "        document.querySelector('#' + key + ' button');\n",
              "      quickchartButtonEl.disabled = true;  // To prevent multiple clicks.\n",
              "      quickchartButtonEl.classList.add('colab-df-spinner');\n",
              "      try {\n",
              "        const charts = await google.colab.kernel.invokeFunction(\n",
              "            'suggestCharts', [key], {});\n",
              "      } catch (error) {\n",
              "        console.error('Error during call to suggestCharts:', error);\n",
              "      }\n",
              "      quickchartButtonEl.classList.remove('colab-df-spinner');\n",
              "      quickchartButtonEl.classList.add('colab-df-quickchart-complete');\n",
              "    }\n",
              "    (() => {\n",
              "      let quickchartButtonEl =\n",
              "        document.querySelector('#df-35f0f861-2c14-4552-a403-f3c79748f104 button');\n",
              "      quickchartButtonEl.style.display =\n",
              "        google.colab.kernel.accessAllowed ? 'block' : 'none';\n",
              "    })();\n",
              "  </script>\n",
              "</div>\n",
              "    </div>\n",
              "  </div>\n"
            ]
          },
          "metadata": {},
          "execution_count": 145
        }
      ]
    },
    {
      "cell_type": "code",
      "source": [
        "type(df)"
      ],
      "metadata": {
        "colab": {
          "base_uri": "https://localhost:8080/"
        },
        "id": "NGx-y3DnStb2",
        "outputId": "b32e02a8-cd27-4700-9cdd-ba05018f8051"
      },
      "execution_count": null,
      "outputs": [
        {
          "output_type": "execute_result",
          "data": {
            "text/plain": [
              "pandas.core.frame.DataFrame"
            ]
          },
          "metadata": {},
          "execution_count": 146
        }
      ]
    },
    {
      "cell_type": "code",
      "source": [
        "df['label']"
      ],
      "metadata": {
        "colab": {
          "base_uri": "https://localhost:8080/"
        },
        "id": "e10W-NcGSvSE",
        "outputId": "03acb091-49e9-4b40-d14f-50e28e9651a7"
      },
      "execution_count": null,
      "outputs": [
        {
          "output_type": "execute_result",
          "data": {
            "text/plain": [
              "0    A\n",
              "1    B\n",
              "2    C\n",
              "3    D\n",
              "4    A\n",
              "5    B\n",
              "6    C\n",
              "7    F\n",
              "Name: label, dtype: object"
            ]
          },
          "metadata": {},
          "execution_count": 147
        }
      ]
    },
    {
      "cell_type": "code",
      "source": [
        "df.groupby('label').sum()"
      ],
      "metadata": {
        "colab": {
          "base_uri": "https://localhost:8080/"
        },
        "id": "Ou9JHOrzSxYS",
        "outputId": "b78d6f0a-7e30-47f1-839e-462ab5df2572"
      },
      "execution_count": null,
      "outputs": [
        {
          "output_type": "execute_result",
          "data": {
            "text/plain": [
              "       value\n",
              "label       \n",
              "A          6\n",
              "B          8\n",
              "C         10\n",
              "D          4\n",
              "F          8"
            ],
            "text/html": [
              "\n",
              "  <div id=\"df-fd0680d6-d740-4e25-9ad4-2196e4f4a9e8\" class=\"colab-df-container\">\n",
              "    <div>\n",
              "<style scoped>\n",
              "    .dataframe tbody tr th:only-of-type {\n",
              "        vertical-align: middle;\n",
              "    }\n",
              "\n",
              "    .dataframe tbody tr th {\n",
              "        vertical-align: top;\n",
              "    }\n",
              "\n",
              "    .dataframe thead th {\n",
              "        text-align: right;\n",
              "    }\n",
              "</style>\n",
              "<table border=\"1\" class=\"dataframe\">\n",
              "  <thead>\n",
              "    <tr style=\"text-align: right;\">\n",
              "      <th></th>\n",
              "      <th>value</th>\n",
              "    </tr>\n",
              "    <tr>\n",
              "      <th>label</th>\n",
              "      <th></th>\n",
              "    </tr>\n",
              "  </thead>\n",
              "  <tbody>\n",
              "    <tr>\n",
              "      <th>A</th>\n",
              "      <td>6</td>\n",
              "    </tr>\n",
              "    <tr>\n",
              "      <th>B</th>\n",
              "      <td>8</td>\n",
              "    </tr>\n",
              "    <tr>\n",
              "      <th>C</th>\n",
              "      <td>10</td>\n",
              "    </tr>\n",
              "    <tr>\n",
              "      <th>D</th>\n",
              "      <td>4</td>\n",
              "    </tr>\n",
              "    <tr>\n",
              "      <th>F</th>\n",
              "      <td>8</td>\n",
              "    </tr>\n",
              "  </tbody>\n",
              "</table>\n",
              "</div>\n",
              "    <div class=\"colab-df-buttons\">\n",
              "\n",
              "  <div class=\"colab-df-container\">\n",
              "    <button class=\"colab-df-convert\" onclick=\"convertToInteractive('df-fd0680d6-d740-4e25-9ad4-2196e4f4a9e8')\"\n",
              "            title=\"Convert this dataframe to an interactive table.\"\n",
              "            style=\"display:none;\">\n",
              "\n",
              "  <svg xmlns=\"http://www.w3.org/2000/svg\" height=\"24px\" viewBox=\"0 -960 960 960\">\n",
              "    <path d=\"M120-120v-720h720v720H120Zm60-500h600v-160H180v160Zm220 220h160v-160H400v160Zm0 220h160v-160H400v160ZM180-400h160v-160H180v160Zm440 0h160v-160H620v160ZM180-180h160v-160H180v160Zm440 0h160v-160H620v160Z\"/>\n",
              "  </svg>\n",
              "    </button>\n",
              "\n",
              "  <style>\n",
              "    .colab-df-container {\n",
              "      display:flex;\n",
              "      gap: 12px;\n",
              "    }\n",
              "\n",
              "    .colab-df-convert {\n",
              "      background-color: #E8F0FE;\n",
              "      border: none;\n",
              "      border-radius: 50%;\n",
              "      cursor: pointer;\n",
              "      display: none;\n",
              "      fill: #1967D2;\n",
              "      height: 32px;\n",
              "      padding: 0 0 0 0;\n",
              "      width: 32px;\n",
              "    }\n",
              "\n",
              "    .colab-df-convert:hover {\n",
              "      background-color: #E2EBFA;\n",
              "      box-shadow: 0px 1px 2px rgba(60, 64, 67, 0.3), 0px 1px 3px 1px rgba(60, 64, 67, 0.15);\n",
              "      fill: #174EA6;\n",
              "    }\n",
              "\n",
              "    .colab-df-buttons div {\n",
              "      margin-bottom: 4px;\n",
              "    }\n",
              "\n",
              "    [theme=dark] .colab-df-convert {\n",
              "      background-color: #3B4455;\n",
              "      fill: #D2E3FC;\n",
              "    }\n",
              "\n",
              "    [theme=dark] .colab-df-convert:hover {\n",
              "      background-color: #434B5C;\n",
              "      box-shadow: 0px 1px 3px 1px rgba(0, 0, 0, 0.15);\n",
              "      filter: drop-shadow(0px 1px 2px rgba(0, 0, 0, 0.3));\n",
              "      fill: #FFFFFF;\n",
              "    }\n",
              "  </style>\n",
              "\n",
              "    <script>\n",
              "      const buttonEl =\n",
              "        document.querySelector('#df-fd0680d6-d740-4e25-9ad4-2196e4f4a9e8 button.colab-df-convert');\n",
              "      buttonEl.style.display =\n",
              "        google.colab.kernel.accessAllowed ? 'block' : 'none';\n",
              "\n",
              "      async function convertToInteractive(key) {\n",
              "        const element = document.querySelector('#df-fd0680d6-d740-4e25-9ad4-2196e4f4a9e8');\n",
              "        const dataTable =\n",
              "          await google.colab.kernel.invokeFunction('convertToInteractive',\n",
              "                                                    [key], {});\n",
              "        if (!dataTable) return;\n",
              "\n",
              "        const docLinkHtml = 'Like what you see? Visit the ' +\n",
              "          '<a target=\"_blank\" href=https://colab.research.google.com/notebooks/data_table.ipynb>data table notebook</a>'\n",
              "          + ' to learn more about interactive tables.';\n",
              "        element.innerHTML = '';\n",
              "        dataTable['output_type'] = 'display_data';\n",
              "        await google.colab.output.renderOutput(dataTable, element);\n",
              "        const docLink = document.createElement('div');\n",
              "        docLink.innerHTML = docLinkHtml;\n",
              "        element.appendChild(docLink);\n",
              "      }\n",
              "    </script>\n",
              "  </div>\n",
              "\n",
              "\n",
              "<div id=\"df-86089ec2-9c57-448e-92d4-d79c3fa5d083\">\n",
              "  <button class=\"colab-df-quickchart\" onclick=\"quickchart('df-86089ec2-9c57-448e-92d4-d79c3fa5d083')\"\n",
              "            title=\"Suggest charts.\"\n",
              "            style=\"display:none;\">\n",
              "\n",
              "<svg xmlns=\"http://www.w3.org/2000/svg\" height=\"24px\"viewBox=\"0 0 24 24\"\n",
              "     width=\"24px\">\n",
              "    <g>\n",
              "        <path d=\"M19 3H5c-1.1 0-2 .9-2 2v14c0 1.1.9 2 2 2h14c1.1 0 2-.9 2-2V5c0-1.1-.9-2-2-2zM9 17H7v-7h2v7zm4 0h-2V7h2v10zm4 0h-2v-4h2v4z\"/>\n",
              "    </g>\n",
              "</svg>\n",
              "  </button>\n",
              "\n",
              "<style>\n",
              "  .colab-df-quickchart {\n",
              "      --bg-color: #E8F0FE;\n",
              "      --fill-color: #1967D2;\n",
              "      --hover-bg-color: #E2EBFA;\n",
              "      --hover-fill-color: #174EA6;\n",
              "      --disabled-fill-color: #AAA;\n",
              "      --disabled-bg-color: #DDD;\n",
              "  }\n",
              "\n",
              "  [theme=dark] .colab-df-quickchart {\n",
              "      --bg-color: #3B4455;\n",
              "      --fill-color: #D2E3FC;\n",
              "      --hover-bg-color: #434B5C;\n",
              "      --hover-fill-color: #FFFFFF;\n",
              "      --disabled-bg-color: #3B4455;\n",
              "      --disabled-fill-color: #666;\n",
              "  }\n",
              "\n",
              "  .colab-df-quickchart {\n",
              "    background-color: var(--bg-color);\n",
              "    border: none;\n",
              "    border-radius: 50%;\n",
              "    cursor: pointer;\n",
              "    display: none;\n",
              "    fill: var(--fill-color);\n",
              "    height: 32px;\n",
              "    padding: 0;\n",
              "    width: 32px;\n",
              "  }\n",
              "\n",
              "  .colab-df-quickchart:hover {\n",
              "    background-color: var(--hover-bg-color);\n",
              "    box-shadow: 0 1px 2px rgba(60, 64, 67, 0.3), 0 1px 3px 1px rgba(60, 64, 67, 0.15);\n",
              "    fill: var(--button-hover-fill-color);\n",
              "  }\n",
              "\n",
              "  .colab-df-quickchart-complete:disabled,\n",
              "  .colab-df-quickchart-complete:disabled:hover {\n",
              "    background-color: var(--disabled-bg-color);\n",
              "    fill: var(--disabled-fill-color);\n",
              "    box-shadow: none;\n",
              "  }\n",
              "\n",
              "  .colab-df-spinner {\n",
              "    border: 2px solid var(--fill-color);\n",
              "    border-color: transparent;\n",
              "    border-bottom-color: var(--fill-color);\n",
              "    animation:\n",
              "      spin 1s steps(1) infinite;\n",
              "  }\n",
              "\n",
              "  @keyframes spin {\n",
              "    0% {\n",
              "      border-color: transparent;\n",
              "      border-bottom-color: var(--fill-color);\n",
              "      border-left-color: var(--fill-color);\n",
              "    }\n",
              "    20% {\n",
              "      border-color: transparent;\n",
              "      border-left-color: var(--fill-color);\n",
              "      border-top-color: var(--fill-color);\n",
              "    }\n",
              "    30% {\n",
              "      border-color: transparent;\n",
              "      border-left-color: var(--fill-color);\n",
              "      border-top-color: var(--fill-color);\n",
              "      border-right-color: var(--fill-color);\n",
              "    }\n",
              "    40% {\n",
              "      border-color: transparent;\n",
              "      border-right-color: var(--fill-color);\n",
              "      border-top-color: var(--fill-color);\n",
              "    }\n",
              "    60% {\n",
              "      border-color: transparent;\n",
              "      border-right-color: var(--fill-color);\n",
              "    }\n",
              "    80% {\n",
              "      border-color: transparent;\n",
              "      border-right-color: var(--fill-color);\n",
              "      border-bottom-color: var(--fill-color);\n",
              "    }\n",
              "    90% {\n",
              "      border-color: transparent;\n",
              "      border-bottom-color: var(--fill-color);\n",
              "    }\n",
              "  }\n",
              "</style>\n",
              "\n",
              "  <script>\n",
              "    async function quickchart(key) {\n",
              "      const quickchartButtonEl =\n",
              "        document.querySelector('#' + key + ' button');\n",
              "      quickchartButtonEl.disabled = true;  // To prevent multiple clicks.\n",
              "      quickchartButtonEl.classList.add('colab-df-spinner');\n",
              "      try {\n",
              "        const charts = await google.colab.kernel.invokeFunction(\n",
              "            'suggestCharts', [key], {});\n",
              "      } catch (error) {\n",
              "        console.error('Error during call to suggestCharts:', error);\n",
              "      }\n",
              "      quickchartButtonEl.classList.remove('colab-df-spinner');\n",
              "      quickchartButtonEl.classList.add('colab-df-quickchart-complete');\n",
              "    }\n",
              "    (() => {\n",
              "      let quickchartButtonEl =\n",
              "        document.querySelector('#df-86089ec2-9c57-448e-92d4-d79c3fa5d083 button');\n",
              "      quickchartButtonEl.style.display =\n",
              "        google.colab.kernel.accessAllowed ? 'block' : 'none';\n",
              "    })();\n",
              "  </script>\n",
              "</div>\n",
              "    </div>\n",
              "  </div>\n"
            ]
          },
          "metadata": {},
          "execution_count": 148
        }
      ]
    },
    {
      "cell_type": "code",
      "source": [
        "df.groupby('label').count()"
      ],
      "metadata": {
        "colab": {
          "base_uri": "https://localhost:8080/"
        },
        "id": "-LkryR5ObXAa",
        "outputId": "a1723e01-8e1f-4ac6-9cd4-eadfe66bea1a"
      },
      "execution_count": null,
      "outputs": [
        {
          "output_type": "execute_result",
          "data": {
            "text/plain": [
              "       value\n",
              "label       \n",
              "A          2\n",
              "B          2\n",
              "C          2\n",
              "D          1\n",
              "F          1"
            ],
            "text/html": [
              "\n",
              "  <div id=\"df-80d43c50-e42e-4167-a561-7ee01bad96fb\" class=\"colab-df-container\">\n",
              "    <div>\n",
              "<style scoped>\n",
              "    .dataframe tbody tr th:only-of-type {\n",
              "        vertical-align: middle;\n",
              "    }\n",
              "\n",
              "    .dataframe tbody tr th {\n",
              "        vertical-align: top;\n",
              "    }\n",
              "\n",
              "    .dataframe thead th {\n",
              "        text-align: right;\n",
              "    }\n",
              "</style>\n",
              "<table border=\"1\" class=\"dataframe\">\n",
              "  <thead>\n",
              "    <tr style=\"text-align: right;\">\n",
              "      <th></th>\n",
              "      <th>value</th>\n",
              "    </tr>\n",
              "    <tr>\n",
              "      <th>label</th>\n",
              "      <th></th>\n",
              "    </tr>\n",
              "  </thead>\n",
              "  <tbody>\n",
              "    <tr>\n",
              "      <th>A</th>\n",
              "      <td>2</td>\n",
              "    </tr>\n",
              "    <tr>\n",
              "      <th>B</th>\n",
              "      <td>2</td>\n",
              "    </tr>\n",
              "    <tr>\n",
              "      <th>C</th>\n",
              "      <td>2</td>\n",
              "    </tr>\n",
              "    <tr>\n",
              "      <th>D</th>\n",
              "      <td>1</td>\n",
              "    </tr>\n",
              "    <tr>\n",
              "      <th>F</th>\n",
              "      <td>1</td>\n",
              "    </tr>\n",
              "  </tbody>\n",
              "</table>\n",
              "</div>\n",
              "    <div class=\"colab-df-buttons\">\n",
              "\n",
              "  <div class=\"colab-df-container\">\n",
              "    <button class=\"colab-df-convert\" onclick=\"convertToInteractive('df-80d43c50-e42e-4167-a561-7ee01bad96fb')\"\n",
              "            title=\"Convert this dataframe to an interactive table.\"\n",
              "            style=\"display:none;\">\n",
              "\n",
              "  <svg xmlns=\"http://www.w3.org/2000/svg\" height=\"24px\" viewBox=\"0 -960 960 960\">\n",
              "    <path d=\"M120-120v-720h720v720H120Zm60-500h600v-160H180v160Zm220 220h160v-160H400v160Zm0 220h160v-160H400v160ZM180-400h160v-160H180v160Zm440 0h160v-160H620v160ZM180-180h160v-160H180v160Zm440 0h160v-160H620v160Z\"/>\n",
              "  </svg>\n",
              "    </button>\n",
              "\n",
              "  <style>\n",
              "    .colab-df-container {\n",
              "      display:flex;\n",
              "      gap: 12px;\n",
              "    }\n",
              "\n",
              "    .colab-df-convert {\n",
              "      background-color: #E8F0FE;\n",
              "      border: none;\n",
              "      border-radius: 50%;\n",
              "      cursor: pointer;\n",
              "      display: none;\n",
              "      fill: #1967D2;\n",
              "      height: 32px;\n",
              "      padding: 0 0 0 0;\n",
              "      width: 32px;\n",
              "    }\n",
              "\n",
              "    .colab-df-convert:hover {\n",
              "      background-color: #E2EBFA;\n",
              "      box-shadow: 0px 1px 2px rgba(60, 64, 67, 0.3), 0px 1px 3px 1px rgba(60, 64, 67, 0.15);\n",
              "      fill: #174EA6;\n",
              "    }\n",
              "\n",
              "    .colab-df-buttons div {\n",
              "      margin-bottom: 4px;\n",
              "    }\n",
              "\n",
              "    [theme=dark] .colab-df-convert {\n",
              "      background-color: #3B4455;\n",
              "      fill: #D2E3FC;\n",
              "    }\n",
              "\n",
              "    [theme=dark] .colab-df-convert:hover {\n",
              "      background-color: #434B5C;\n",
              "      box-shadow: 0px 1px 3px 1px rgba(0, 0, 0, 0.15);\n",
              "      filter: drop-shadow(0px 1px 2px rgba(0, 0, 0, 0.3));\n",
              "      fill: #FFFFFF;\n",
              "    }\n",
              "  </style>\n",
              "\n",
              "    <script>\n",
              "      const buttonEl =\n",
              "        document.querySelector('#df-80d43c50-e42e-4167-a561-7ee01bad96fb button.colab-df-convert');\n",
              "      buttonEl.style.display =\n",
              "        google.colab.kernel.accessAllowed ? 'block' : 'none';\n",
              "\n",
              "      async function convertToInteractive(key) {\n",
              "        const element = document.querySelector('#df-80d43c50-e42e-4167-a561-7ee01bad96fb');\n",
              "        const dataTable =\n",
              "          await google.colab.kernel.invokeFunction('convertToInteractive',\n",
              "                                                    [key], {});\n",
              "        if (!dataTable) return;\n",
              "\n",
              "        const docLinkHtml = 'Like what you see? Visit the ' +\n",
              "          '<a target=\"_blank\" href=https://colab.research.google.com/notebooks/data_table.ipynb>data table notebook</a>'\n",
              "          + ' to learn more about interactive tables.';\n",
              "        element.innerHTML = '';\n",
              "        dataTable['output_type'] = 'display_data';\n",
              "        await google.colab.output.renderOutput(dataTable, element);\n",
              "        const docLink = document.createElement('div');\n",
              "        docLink.innerHTML = docLinkHtml;\n",
              "        element.appendChild(docLink);\n",
              "      }\n",
              "    </script>\n",
              "  </div>\n",
              "\n",
              "\n",
              "<div id=\"df-948f8256-188e-4fb1-8552-1d16f27f3412\">\n",
              "  <button class=\"colab-df-quickchart\" onclick=\"quickchart('df-948f8256-188e-4fb1-8552-1d16f27f3412')\"\n",
              "            title=\"Suggest charts.\"\n",
              "            style=\"display:none;\">\n",
              "\n",
              "<svg xmlns=\"http://www.w3.org/2000/svg\" height=\"24px\"viewBox=\"0 0 24 24\"\n",
              "     width=\"24px\">\n",
              "    <g>\n",
              "        <path d=\"M19 3H5c-1.1 0-2 .9-2 2v14c0 1.1.9 2 2 2h14c1.1 0 2-.9 2-2V5c0-1.1-.9-2-2-2zM9 17H7v-7h2v7zm4 0h-2V7h2v10zm4 0h-2v-4h2v4z\"/>\n",
              "    </g>\n",
              "</svg>\n",
              "  </button>\n",
              "\n",
              "<style>\n",
              "  .colab-df-quickchart {\n",
              "      --bg-color: #E8F0FE;\n",
              "      --fill-color: #1967D2;\n",
              "      --hover-bg-color: #E2EBFA;\n",
              "      --hover-fill-color: #174EA6;\n",
              "      --disabled-fill-color: #AAA;\n",
              "      --disabled-bg-color: #DDD;\n",
              "  }\n",
              "\n",
              "  [theme=dark] .colab-df-quickchart {\n",
              "      --bg-color: #3B4455;\n",
              "      --fill-color: #D2E3FC;\n",
              "      --hover-bg-color: #434B5C;\n",
              "      --hover-fill-color: #FFFFFF;\n",
              "      --disabled-bg-color: #3B4455;\n",
              "      --disabled-fill-color: #666;\n",
              "  }\n",
              "\n",
              "  .colab-df-quickchart {\n",
              "    background-color: var(--bg-color);\n",
              "    border: none;\n",
              "    border-radius: 50%;\n",
              "    cursor: pointer;\n",
              "    display: none;\n",
              "    fill: var(--fill-color);\n",
              "    height: 32px;\n",
              "    padding: 0;\n",
              "    width: 32px;\n",
              "  }\n",
              "\n",
              "  .colab-df-quickchart:hover {\n",
              "    background-color: var(--hover-bg-color);\n",
              "    box-shadow: 0 1px 2px rgba(60, 64, 67, 0.3), 0 1px 3px 1px rgba(60, 64, 67, 0.15);\n",
              "    fill: var(--button-hover-fill-color);\n",
              "  }\n",
              "\n",
              "  .colab-df-quickchart-complete:disabled,\n",
              "  .colab-df-quickchart-complete:disabled:hover {\n",
              "    background-color: var(--disabled-bg-color);\n",
              "    fill: var(--disabled-fill-color);\n",
              "    box-shadow: none;\n",
              "  }\n",
              "\n",
              "  .colab-df-spinner {\n",
              "    border: 2px solid var(--fill-color);\n",
              "    border-color: transparent;\n",
              "    border-bottom-color: var(--fill-color);\n",
              "    animation:\n",
              "      spin 1s steps(1) infinite;\n",
              "  }\n",
              "\n",
              "  @keyframes spin {\n",
              "    0% {\n",
              "      border-color: transparent;\n",
              "      border-bottom-color: var(--fill-color);\n",
              "      border-left-color: var(--fill-color);\n",
              "    }\n",
              "    20% {\n",
              "      border-color: transparent;\n",
              "      border-left-color: var(--fill-color);\n",
              "      border-top-color: var(--fill-color);\n",
              "    }\n",
              "    30% {\n",
              "      border-color: transparent;\n",
              "      border-left-color: var(--fill-color);\n",
              "      border-top-color: var(--fill-color);\n",
              "      border-right-color: var(--fill-color);\n",
              "    }\n",
              "    40% {\n",
              "      border-color: transparent;\n",
              "      border-right-color: var(--fill-color);\n",
              "      border-top-color: var(--fill-color);\n",
              "    }\n",
              "    60% {\n",
              "      border-color: transparent;\n",
              "      border-right-color: var(--fill-color);\n",
              "    }\n",
              "    80% {\n",
              "      border-color: transparent;\n",
              "      border-right-color: var(--fill-color);\n",
              "      border-bottom-color: var(--fill-color);\n",
              "    }\n",
              "    90% {\n",
              "      border-color: transparent;\n",
              "      border-bottom-color: var(--fill-color);\n",
              "    }\n",
              "  }\n",
              "</style>\n",
              "\n",
              "  <script>\n",
              "    async function quickchart(key) {\n",
              "      const quickchartButtonEl =\n",
              "        document.querySelector('#' + key + ' button');\n",
              "      quickchartButtonEl.disabled = true;  // To prevent multiple clicks.\n",
              "      quickchartButtonEl.classList.add('colab-df-spinner');\n",
              "      try {\n",
              "        const charts = await google.colab.kernel.invokeFunction(\n",
              "            'suggestCharts', [key], {});\n",
              "      } catch (error) {\n",
              "        console.error('Error during call to suggestCharts:', error);\n",
              "      }\n",
              "      quickchartButtonEl.classList.remove('colab-df-spinner');\n",
              "      quickchartButtonEl.classList.add('colab-df-quickchart-complete');\n",
              "    }\n",
              "    (() => {\n",
              "      let quickchartButtonEl =\n",
              "        document.querySelector('#df-948f8256-188e-4fb1-8552-1d16f27f3412 button');\n",
              "      quickchartButtonEl.style.display =\n",
              "        google.colab.kernel.accessAllowed ? 'block' : 'none';\n",
              "    })();\n",
              "  </script>\n",
              "</div>\n",
              "    </div>\n",
              "  </div>\n"
            ]
          },
          "metadata": {},
          "execution_count": 149
        }
      ]
    },
    {
      "cell_type": "markdown",
      "source": [
        "####Matplotlib"
      ],
      "metadata": {
        "id": "QDU2B5EnTHxL"
      }
    },
    {
      "cell_type": "code",
      "source": [
        "#Resource: https://matplotlib.org/\n",
        "#Note: Matplotlib is a comprehensive library for Python visualizations.\n",
        "import matplotlib.pyplot as plt\n",
        "\n",
        "#Note: This line of code will make our graphs in the style of R's ggplot.\n",
        "plt.style.use('ggplot')"
      ],
      "metadata": {
        "id": "x7V3I4FkUOAm"
      },
      "execution_count": null,
      "outputs": []
    },
    {
      "cell_type": "code",
      "source": [
        "x = np.linspace(0, 10, 100)\n",
        "\n",
        "figure = plt.figure()\n",
        "plt.plot(x, np.sin(x), '-', 'b')\n",
        "plt.plot(x, np.cos(x), '--', 'r')"
      ],
      "metadata": {
        "colab": {
          "base_uri": "https://localhost:8080/",
          "height": 465
        },
        "id": "W4lv0DduUawW",
        "outputId": "96f2d9dc-3fd3-468c-8221-b8b9b3a66073"
      },
      "execution_count": null,
      "outputs": [
        {
          "output_type": "execute_result",
          "data": {
            "text/plain": [
              "[<matplotlib.lines.Line2D at 0x7e47079b12d0>,\n",
              " <matplotlib.lines.Line2D at 0x7e47079b1300>]"
            ]
          },
          "metadata": {},
          "execution_count": 149
        },
        {
          "output_type": "display_data",
          "data": {
            "text/plain": [
              "<Figure size 640x480 with 1 Axes>"
            ],
            "image/png": "[encoded data removed]"
          },
          "metadata": {}
        }
      ]
    },
    {
      "cell_type": "code",
      "source": [
        "plt.plot([1, 2, 3, 4], [1, 4, 9, 16])\n",
        "plt.show()"
      ],
      "metadata": {
        "colab": {
          "base_uri": "https://localhost:8080/",
          "height": 430
        },
        "id": "qgaKW1LsUrW8",
        "outputId": "a1c048fd-0927-4053-d4c1-420d52a4a755"
      },
      "execution_count": null,
      "outputs": [
        {
          "output_type": "display_data",
          "data": {
            "text/plain": [
              "<Figure size 640x480 with 1 Axes>"
            ],
            "image/png": "[encoded data removed]"
          },
          "metadata": {}
        }
      ]
    },
    {
      "cell_type": "markdown",
      "source": [
        "####SciPy (Scientific Python)"
      ],
      "metadata": {
        "id": "7LSroCvXU0Lz"
      }
    },
    {
      "cell_type": "code",
      "source": [
        "#Resource: https://scipy.org/\n",
        "#Note: SciPy is a library used for solving mathematical, scientific, engineering and technical problems in Python.\n",
        "from scipy import interpolate\n",
        "\n",
        "#Note: Interpolation is in fact determination/estimation of the value of f(x) from certain known values of the funcion.\n",
        "\n",
        "x = np.linspace(0, 10, 7)\n",
        "y = np.sin(x)\n",
        "\n",
        "funct = interpolate.interp1d(x, y, kind='cubic')\n",
        "\n",
        "x_interp = np.linspace(0, 10, 1000)\n",
        "y_interp = funct(x_interp)\n",
        "\n",
        "#Note: plt.figure() returns an empty figure\n",
        "#Note: plt.plot() returns a plot (y versus x as lines).\n",
        "#Note: 'bo' is in place of the optional parameter fmt used for formating and means 'plot x and y using blue circles'.\n",
        "plt.figure()\n",
        "plt.plot(x, y, 'bo')\n",
        "plt.plot(x_interp, y_interp)"
      ],
      "metadata": {
        "colab": {
          "base_uri": "https://localhost:8080/",
          "height": 447
        },
        "id": "i7LqUnHXVWsI",
        "outputId": "b5169343-4390-478f-aca7-1326a0c59354"
      },
      "execution_count": null,
      "outputs": [
        {
          "output_type": "execute_result",
          "data": {
            "text/plain": [
              "[<matplotlib.lines.Line2D at 0x788426a1fd00>]"
            ]
          },
          "metadata": {},
          "execution_count": 151
        },
        {
          "output_type": "display_data",
          "data": {
            "text/plain": [
              "<Figure size 640x480 with 1 Axes>"
            ],
            "image/png": "[encoded data removed]"
          },
          "metadata": {}
        }
      ]
    },
    {
      "cell_type": "code",
      "source": [
        "_"
      ],
      "metadata": {
        "id": "_Na9zC4-oD06"
      },
      "execution_count": null,
      "outputs": []
    }
  ]
}